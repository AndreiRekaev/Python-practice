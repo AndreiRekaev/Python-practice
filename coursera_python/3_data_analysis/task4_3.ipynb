{
  "metadata": {
    "kernelspec": {
      "name": "python",
      "display_name": "Python (Pyodide)",
      "language": "python"
    },
    "language_info": {
      "codemirror_mode": {
        "name": "python",
        "version": 3
      },
      "file_extension": ".py",
      "mimetype": "text/x-python",
      "name": "python",
      "nbconvert_exporter": "python",
      "pygments_lexer": "ipython3",
      "version": "3.8"
    },
    "anaconda-cloud": {},
    "toc": {
      "base_numbering": 1,
      "nav_menu": {
        "height": "69px",
        "width": "253px"
      },
      "number_sections": true,
      "sideBar": true,
      "skip_h1_title": false,
      "title_cell": "Table of Contents",
      "title_sidebar": "Contents",
      "toc_cell": false,
      "toc_position": {},
      "toc_section_display": "block",
      "toc_window_display": false
    }
  },
  "nbformat_minor": 4,
  "nbformat": 4,
  "cells": [
    {
      "cell_type": "markdown",
      "source": "# Введение в рекомендательные системы\n\n## Коллаборативная фильтрация",
      "metadata": {}
    },
    {
      "cell_type": "markdown",
      "source": "В этом задании мы закончим имплементацию коллаборативной фильтрации.\n\nДля этого - выполним действия, необходимые для создания матрицы рейтингов",
      "metadata": {}
    },
    {
      "cell_type": "code",
      "source": "import warnings\nwarnings.filterwarnings('ignore')",
      "metadata": {
        "trusted": true
      },
      "outputs": [],
      "execution_count": 1
    },
    {
      "cell_type": "code",
      "source": "import os\nimport numpy as np\nimport pandas as pd\nimport matplotlib.pyplot as plt\nfrom tqdm import tqdm_notebook\n\n%matplotlib inline\n\nplt.style.use('ggplot')\nplt.rcParams['figure.figsize'] = (12, 6)",
      "metadata": {
        "trusted": true
      },
      "outputs": [
        {
          "name": "stderr",
          "output_type": "stream",
          "text": "Matplotlib is building the font cache; this may take a moment.\n"
        }
      ],
      "execution_count": 2
    },
    {
      "cell_type": "code",
      "source": "filepath = './data/user_ratedmovies.dat'\ndf_rates = pd.read_csv(filepath, sep='\\t')",
      "metadata": {
        "trusted": true
      },
      "outputs": [],
      "execution_count": 3
    },
    {
      "cell_type": "code",
      "source": "filepath = './data/movies.dat'\ndf_movies = pd.read_csv(filepath, sep='\\t', encoding='iso-8859-1')",
      "metadata": {
        "trusted": true
      },
      "outputs": [],
      "execution_count": 5
    },
    {
      "cell_type": "markdown",
      "source": "# Перекодируем ID фильмов и пользователей",
      "metadata": {}
    },
    {
      "cell_type": "code",
      "source": "from sklearn.preprocessing import LabelEncoder",
      "metadata": {
        "trusted": true
      },
      "outputs": [],
      "execution_count": 6
    },
    {
      "cell_type": "code",
      "source": "enc_user = LabelEncoder()\nenc_mov = LabelEncoder()",
      "metadata": {
        "trusted": true
      },
      "outputs": [],
      "execution_count": 7
    },
    {
      "cell_type": "code",
      "source": "enc_user = enc_user.fit(df_rates.userID.values)\nenc_mov = enc_mov.fit(df_rates.movieID.values)",
      "metadata": {
        "trusted": true
      },
      "outputs": [],
      "execution_count": 8
    },
    {
      "cell_type": "code",
      "source": "idx = df_movies.loc[:, 'id'].isin(df_rates.movieID)\ndf_movies = df_movies.loc[idx]",
      "metadata": {
        "trusted": true
      },
      "outputs": [],
      "execution_count": 9
    },
    {
      "cell_type": "code",
      "source": "df_rates.loc[:, 'userID'] = enc_user.transform(df_rates.loc[:, 'userID'].values)\ndf_rates.loc[:, 'movieID'] = enc_mov.transform(df_rates.loc[:, 'movieID'].values)\ndf_movies.loc[:, 'id'] = enc_mov.transform(df_movies.loc[:, 'id'].values)",
      "metadata": {
        "trusted": true
      },
      "outputs": [],
      "execution_count": 10
    },
    {
      "cell_type": "markdown",
      "source": "## Матрица рейтингов",
      "metadata": {}
    },
    {
      "cell_type": "code",
      "source": "from scipy.sparse import coo_matrix, csr_matrix",
      "metadata": {
        "trusted": true
      },
      "outputs": [],
      "execution_count": 11
    },
    {
      "cell_type": "code",
      "source": "R = coo_matrix((df_rates.rating.values, (df_rates.userID.values, df_rates.movieID.values)))",
      "metadata": {
        "trusted": true
      },
      "outputs": [],
      "execution_count": 12
    },
    {
      "cell_type": "code",
      "source": "R",
      "metadata": {
        "trusted": true
      },
      "outputs": [
        {
          "execution_count": 13,
          "output_type": "execute_result",
          "data": {
            "text/plain": "<COOrdinate sparse matrix of dtype 'float64'\n\twith 855598 stored elements and shape (2113, 10109)>"
          },
          "metadata": {}
        }
      ],
      "execution_count": 13
    },
    {
      "cell_type": "markdown",
      "source": "## Похожесть между пользователями",
      "metadata": {}
    },
    {
      "cell_type": "markdown",
      "source": "В дальнейшем нам будет удобнее работать с форматом `Compressed Sparse Row matrix`. К счастью переформатировать полученную нами матрицу можно одной командой:",
      "metadata": {}
    },
    {
      "cell_type": "code",
      "source": "R = R.tocsr()",
      "metadata": {
        "scrolled": true,
        "trusted": true
      },
      "outputs": [],
      "execution_count": 14
    },
    {
      "cell_type": "markdown",
      "source": "Теперь, например, рейтинги для первого пользователя можно достать так:",
      "metadata": {}
    },
    {
      "cell_type": "code",
      "source": "user_1 = R[0]\nuser_1",
      "metadata": {
        "trusted": true
      },
      "outputs": [
        {
          "execution_count": 15,
          "output_type": "execute_result",
          "data": {
            "text/plain": "<Compressed Sparse Row sparse matrix of dtype 'float64'\n\twith 55 stored elements and shape (1, 10109)>"
          },
          "metadata": {}
        }
      ],
      "execution_count": 15
    },
    {
      "cell_type": "markdown",
      "source": "Так как вы возможно не работали с разреженным форматом матриц, устроим небольшой ликбез.\n\nПервым делом, надо понадобится вектор для другого пользователя:",
      "metadata": {}
    },
    {
      "cell_type": "code",
      "source": "user_2 = R[1]\nuser_2",
      "metadata": {
        "trusted": true
      },
      "outputs": [
        {
          "execution_count": 16,
          "output_type": "execute_result",
          "data": {
            "text/plain": "<Compressed Sparse Row sparse matrix of dtype 'float64'\n\twith 468 stored elements and shape (1, 10109)>"
          },
          "metadata": {}
        }
      ],
      "execution_count": 16
    },
    {
      "cell_type": "markdown",
      "source": "Мы можем сравнивать элементы с 0",
      "metadata": {}
    },
    {
      "cell_type": "code",
      "source": "user_1_rated = (user_1 != 0)\nuser_1_rated",
      "metadata": {
        "trusted": true
      },
      "outputs": [
        {
          "execution_count": 17,
          "output_type": "execute_result",
          "data": {
            "text/plain": "<Compressed Sparse Row sparse matrix of dtype 'bool'\n\twith 55 stored elements and shape (1, 10109)>"
          },
          "metadata": {}
        }
      ],
      "execution_count": 17
    },
    {
      "cell_type": "markdown",
      "source": "Можем их \"индексировать\"",
      "metadata": {}
    },
    {
      "cell_type": "code",
      "source": "user_1[user_1_rated]",
      "metadata": {
        "trusted": true
      },
      "outputs": [
        {
          "execution_count": 18,
          "output_type": "execute_result",
          "data": {
            "text/plain": "matrix([[1. , 4.5, 4. , 2. , 4. , 4.5, 3.5, 5. , 3.5, 2. , 4. , 3. , 4.5,\n         0.5, 4.5, 4. , 3.5, 4.5, 4. , 2.5, 4. , 4. , 4. , 4.5, 2.5, 2. ,\n         1.5, 4. , 4. , 4.5, 3. , 3. , 4.5, 3.5, 4.5, 1.5, 3. , 3. , 3.5,\n         3.5, 3. , 2.5, 3.5, 4. , 0.5, 4. , 3.5, 4.5, 3.5, 4.5, 5. , 3.5,\n         3.5, 3.5, 4.5]])"
          },
          "metadata": {}
        }
      ],
      "execution_count": 18
    },
    {
      "cell_type": "markdown",
      "source": "Можем считать количество ненулевых элементов",
      "metadata": {}
    },
    {
      "cell_type": "code",
      "source": "user_1.nnz",
      "metadata": {
        "trusted": true
      },
      "outputs": [
        {
          "execution_count": 19,
          "output_type": "execute_result",
          "data": {
            "text/plain": "55"
          },
          "metadata": {}
        }
      ],
      "execution_count": 19
    },
    {
      "cell_type": "markdown",
      "source": "Можем умножать 2 разреженных вектора поэлементно:",
      "metadata": {}
    },
    {
      "cell_type": "code",
      "source": "(user_1).multiply(user_2)",
      "metadata": {
        "trusted": true
      },
      "outputs": [
        {
          "execution_count": 20,
          "output_type": "execute_result",
          "data": {
            "text/plain": "<Compressed Sparse Row sparse matrix of dtype 'float64'\n\twith 14 stored elements and shape (1, 10109)>"
          },
          "metadata": {}
        }
      ],
      "execution_count": 20
    },
    {
      "cell_type": "markdown",
      "source": "и скалярно",
      "metadata": {}
    },
    {
      "cell_type": "code",
      "source": "user_1.dot(user_2.T)[0, 0]",
      "metadata": {
        "trusted": true
      },
      "outputs": [
        {
          "execution_count": 21,
          "output_type": "execute_result",
          "data": {
            "text/plain": "np.float64(216.75)"
          },
          "metadata": {}
        }
      ],
      "execution_count": 21
    },
    {
      "cell_type": "markdown",
      "source": "И превращать разреженную матрицу (вектор) в плотную",
      "metadata": {}
    },
    {
      "cell_type": "code",
      "source": "user_1_dense = user_1.toarray()\nuser_1_dense",
      "metadata": {
        "trusted": true
      },
      "outputs": [
        {
          "execution_count": 22,
          "output_type": "execute_result",
          "data": {
            "text/plain": "array([[0., 0., 1., ..., 0., 0., 0.]])"
          },
          "metadata": {}
        }
      ],
      "execution_count": 22
    },
    {
      "cell_type": "markdown",
      "source": "Этого ликбеза вам будет должно быть достаточно, чтобы реализовать функцию расчета похожести между парой пользователей $u$ и $v$:\n\n$$ s_{uv} = \\frac{\\sum\\limits_{i \\in I_u\\cap I_v} R_{ui} R_{vi}}{\\sqrt{{\\sum\\limits_{i \\in I_u\\cap I_v}R_{ui}^2}}\\sqrt{{\\sum\\limits_{i \\in I_u\\cap I_v}R_{vi}^2}}}$$\n\nДавайте будем считать, что если количество фильмов которые пользователь $u$ и $v$ посмотрели вместе $<= 2$, то их косинусная мера равна 0.0\n",
      "metadata": {}
    },
    {
      "cell_type": "markdown",
      "source": "### _Решение_",
      "metadata": {}
    },
    {
      "cell_type": "code",
      "source": "def cosine_similarity_pair_users(u, v):\n    u_rated = (u != 0)\n    v_rated = (v != 0)\n    common_items = (u_rated).multiply(v_rated)\n    if common_items.nnz > 2:\n        scalar = u.dot(v.T)[0, 0]\n        norm = np.linalg.norm(u[common_items]) * np.linalg.norm(v[common_items])\n        return scalar / norm\n    else:\n        return 0.0",
      "metadata": {
        "trusted": true
      },
      "outputs": [],
      "execution_count": 23
    },
    {
      "cell_type": "code",
      "source": "answer1 = round(cosine_similarity_pair_users(R[146], R[239]),3)\nprint(answer1)",
      "metadata": {
        "trusted": true
      },
      "outputs": [
        {
          "name": "stdout",
          "output_type": "stream",
          "text": "0.923\n"
        }
      ],
      "execution_count": 24
    },
    {
      "cell_type": "markdown",
      "source": "Введите значение answer1 на странице https://stepik.org/lesson/198104/step/6?unit=172340",
      "metadata": {}
    },
    {
      "cell_type": "markdown",
      "source": "## Функция нахождения пользователей, схожих с данным. ",
      "metadata": {}
    },
    {
      "cell_type": "markdown",
      "source": "Реализуйте функцию <font color = \"blue\">similar_users</font>(u, R, n_neigbours) которая принимает на входе\n* Индекс пользователя\n* Матрицу рейтингов\n* Количество ближайших соседей \nи возвращает отсортированный массив пользователей (сортировка по неубыванию), максимально похожих на данного. Для сортировки используйте np.argsort без параметров. (https://docs.scipy.org/doc/numpy/reference/generated/numpy.argsort.html) (Сам пользователь будет в этом списке на первом месте). Эту функцию вы сможете использовать далее. ",
      "metadata": {}
    },
    {
      "cell_type": "code",
      "source": "def similar_users(u, R, n_neigbours):\n    n_users = R.shape[0]\n    similarities = np.zeros(n_users)\n\n    for i in range(n_users):\n        similarities[i] = cosine_similarity_pair_users(R[u], R[i])\n\n    sorted_users = np.argsort(-similarities)\n\n    return sorted_users[:n_neigbours]",
      "metadata": {
        "trusted": true
      },
      "outputs": [],
      "execution_count": 31
    },
    {
      "cell_type": "code",
      "source": "answer2 = np.array2string(similar_users(42, R, 10)).replace(' ','').replace('[','').replace(']','')",
      "metadata": {
        "trusted": true
      },
      "outputs": [],
      "execution_count": 32
    },
    {
      "cell_type": "code",
      "source": "answer2",
      "metadata": {
        "trusted": true
      },
      "outputs": [
        {
          "execution_count": 33,
          "output_type": "execute_result",
          "data": {
            "text/plain": "'42281633724815262065016921506'"
          },
          "metadata": {}
        }
      ],
      "execution_count": 33
    },
    {
      "cell_type": "markdown",
      "source": "Введите значение answer2 без кавычек  на странице https://stepik.org/lesson/198104/step/7?unit=172340",
      "metadata": {}
    },
    {
      "cell_type": "markdown",
      "source": "## Функция прогнозирования рейтинга",
      "metadata": {}
    },
    {
      "cell_type": "markdown",
      "source": "Реализуйте функцию <font color = \"blue\">rate_items_user</font>(u, R, n_neigbours), которая принимает на входе:\n* Индекс пользователя\n* Матрицу рейтингов\n* Количество ближайших соседей <font color = \"red\">(Теперь обратите внимание, несмотря на то, что каждый пользователь - ближайший сосед самому себе, в расчетах он использоваться не должен)</font>\n\nи возвращает вектор с предсказанными рейтингами по всем фильмам для этого пользователя\n\nДля того, чтобы считать прогноз по рейтингу мы воспользуемся упрощенной формулой из лекции:\n\n$$ \\hat{R}_{ui} = \\frac{\\sum_{v \\in N(u)} s_{uv}R_{vi}}{\\sum_{v \\in N(u)} \\left| s_{uv}\\right|} $$\n",
      "metadata": {}
    },
    {
      "cell_type": "markdown",
      "source": "### _Решение_",
      "metadata": {}
    },
    {
      "cell_type": "code",
      "source": "def rate_items_user(u, R, n_neigbours=30):\n    predictions = csr_matrix((1, R.shape[1]))\n    cumsim = 0.0\n    num_predictions = csr_matrix((1, R.shape[1]))\n    s = np.array([cosine_similarity_pair_users(R[u], R[v]) for v in range(R.shape[0])])\n    similar_users = np.argsort(s)[::-1]\n    print(np.sort(s)[::-1])\n    for v in similar_users[:n_neigbours]:\n        if v == u:\n            continue\n        user_sim = s[v]\n        predictions += user_sim * R[v]\n        cumsim += np.abs(user_sim)\n    predictions /= cumsim\n    return predictions",
      "metadata": {
        "trusted": true
      },
      "outputs": [],
      "execution_count": 34
    },
    {
      "cell_type": "markdown",
      "source": "В качестве ответа к этому заданию верните 5 идентификаторов фильмов с наивысшим предсказанным рейтингом для пользователя с id 19 (20-я строчка в матрице рейтингов).\n\n* Для усреднения используйте 30 ближайших соседей\n* Среди этих 5-и фильмов не должно быть ранее просмотренных фильмов\n\nТ.е. предсказанные рейтинги можно получить так:\nR_hat = <font color = \"blue\">rate_items_user</font>(20, R, n_neigbours=30). При сортировке фильмов по рейтингу используйте функцию <font color = \"blue\">argsort </font> без параметров.",
      "metadata": {}
    },
    {
      "cell_type": "markdown",
      "source": "### _Решение_",
      "metadata": {}
    },
    {
      "cell_type": "code",
      "source": "R_hat = rate_items_user(20, R, n_neigbours=30)",
      "metadata": {
        "trusted": true
      },
      "outputs": [
        {
          "name": "stdout",
          "output_type": "stream",
          "text": "[1. 1. 1. ... 0. 0. 0.]\n"
        }
      ],
      "execution_count": 35
    },
    {
      "cell_type": "code",
      "source": "rated_items = (R[20] == 0)\nunseen_ratings = R_hat.multiply(rated_items)\nunseen_ratings = unseen_ratings.toarray()[0]",
      "metadata": {
        "trusted": true
      },
      "outputs": [],
      "execution_count": 38
    },
    {
      "cell_type": "code",
      "source": "idx = unseen_ratings.argsort()[::-1]",
      "metadata": {
        "trusted": true
      },
      "outputs": [],
      "execution_count": 39
    },
    {
      "cell_type": "code",
      "source": "unseen_ratings[idx]",
      "metadata": {
        "trusted": true
      },
      "outputs": [
        {
          "execution_count": 40,
          "output_type": "execute_result",
          "data": {
            "text/plain": "array([2.5174164 , 2.24147475, 2.15522858, ..., 0.        , 0.        ,\n       0.        ])"
          },
          "metadata": {}
        }
      ],
      "execution_count": 40
    },
    {
      "cell_type": "code",
      "source": "top5 = idx[:5]\ntop5",
      "metadata": {
        "trusted": true
      },
      "outputs": [
        {
          "execution_count": 45,
          "output_type": "execute_result",
          "data": {
            "text/plain": "array([2614,  306,  343, 5573, 6720])"
          },
          "metadata": {}
        }
      ],
      "execution_count": 45
    },
    {
      "cell_type": "markdown",
      "source": "## Генерация ответа",
      "metadata": {}
    },
    {
      "cell_type": "code",
      "source": "answer3 = ', '.join(str(i) for i in top5)",
      "metadata": {
        "trusted": true
      },
      "outputs": [],
      "execution_count": 43
    },
    {
      "cell_type": "code",
      "source": "answer3",
      "metadata": {
        "trusted": true
      },
      "outputs": [
        {
          "execution_count": 44,
          "output_type": "execute_result",
          "data": {
            "text/plain": "'2614, 306, 343, 5573, 6720'"
          },
          "metadata": {}
        }
      ],
      "execution_count": 44
    },
    {
      "cell_type": "markdown",
      "source": "Полученную строку введите без кавычек на странице https://stepik.org/lesson/198104/step/8?unit=172340",
      "metadata": {}
    }
  ]
}