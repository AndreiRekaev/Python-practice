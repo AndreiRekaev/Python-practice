{
  "metadata": {
    "kernelspec": {
      "name": "python",
      "display_name": "Python (Pyodide)",
      "language": "python"
    },
    "language_info": {
      "codemirror_mode": {
        "name": "python",
        "version": 3
      },
      "file_extension": ".py",
      "mimetype": "text/x-python",
      "name": "python",
      "nbconvert_exporter": "python",
      "pygments_lexer": "ipython3",
      "version": "3.8"
    },
    "toc": {
      "nav_menu": {},
      "number_sections": true,
      "sideBar": true,
      "skip_h1_title": false,
      "toc_cell": false,
      "toc_position": {},
      "toc_section_display": "block",
      "toc_window_display": false
    },
    "varInspector": {
      "cols": {
        "lenName": 16,
        "lenType": 16,
        "lenVar": 40
      },
      "kernels_config": {
        "python": {
          "delete_cmd_postfix": "",
          "delete_cmd_prefix": "del ",
          "library": "var_list.py",
          "varRefreshCmd": "print(var_dic_list())"
        },
        "r": {
          "delete_cmd_postfix": ") ",
          "delete_cmd_prefix": "rm(",
          "library": "var_list.r",
          "varRefreshCmd": "cat(var_dic_list()) "
        }
      },
      "position": {
        "height": "349px",
        "left": "1068px",
        "right": "20px",
        "top": "120px",
        "width": "352px"
      },
      "types_to_exclude": [
        "module",
        "function",
        "builtin_function_or_method",
        "instance",
        "_Feature"
      ],
      "window_display": false
    }
  },
  "nbformat_minor": 4,
  "nbformat": 4,
  "cells": [
    {
      "cell_type": "code",
      "source": "from scipy import stats\nimport matplotlib.pyplot as plt\n%matplotlib inline\nimport pandas as pd\nimport numpy as np",
      "metadata": {
        "trusted": true
      },
      "outputs": [],
      "execution_count": 18
    },
    {
      "cell_type": "markdown",
      "source": "### A/B тестирование",
      "metadata": {}
    },
    {
      "cell_type": "markdown",
      "source": "В этом задании вы познакомитесь с A/B тестированием и примените полученные знания по статистике. \n\nРассмотрим A/B тестирование на примере сайта. У сайта есть два дизайна - старый и новый, и мы хотим оценить, насколько новый дизайн лучше старого. Для этого пользователи сайта случайным образом разделяются на контрольную и тестовую группы. Контрольной группе показывается старая версия сайта, тестовой группе - измененная версия. Оценить изменение можно несколькими способами, самый простой - оценить конверсию. Конверсия - доля пользователей, совершивших заранее определенное действие(например подписка, нажатие на кнопку, заполнение формы).",
      "metadata": {}
    },
    {
      "cell_type": "markdown",
      "source": "### Описание данных",
      "metadata": {}
    },
    {
      "cell_type": "markdown",
      "source": "Для начала нужно загрузить данные из файла `a_b_testing.csv` при помощи функции `read_csv` из библиотеки `pandas`. В данном случае 1 - была совершена подписка на сайт, 0 - подписки не было. A - контрольная группа, B - тестовая группа.",
      "metadata": {}
    },
    {
      "cell_type": "markdown",
      "source": "Далее нужно выполнить следующие пункты, описание выходного формата содержится внутри каждого задания.",
      "metadata": {}
    },
    {
      "cell_type": "markdown",
      "source": "### Доверительный интервал",
      "metadata": {}
    },
    {
      "cell_type": "markdown",
      "source": "В видео про доверительный интервал мы рассмотрели, как можно аппроксимировать биномиальное распределение нормальным. В некоторых случаях параметры нормального распределения можно вывести математически и ниже мы рассмотрим как.",
      "metadata": {}
    },
    {
      "cell_type": "markdown",
      "source": "Представим количество пользователей как случайную величину из биномиального распределения с параметрами  `n`  - количество пользователей и `p` - вероятность конверсии или как сумму  `n`  независимых бросаний монетки. Определим следующую случайную величину:\n\n$$Y = X_{1} + X_{2} + \\dots + X_{n} , \\, $$\nгде случайная величина $X_{i}$ имеет распределение Бернулли. Для случайной величины $Y$ математическое ожидание и дисперсия равны:\n\n$$\\mu = np, \\, \\sigma^{2} = np\\cdot(1 - p)$$\n\nДалее применяя центральную предельную теорему(случайные величины $X_{i}$ распределены независимо и размер выборки большой), получаем что \n\n$$Y \\sim \\mathcal{N}(np \\, np\\cdot(1 - p))\\$$\n\nМы перешли от биномиального распределения к нормальному. Следующий шаг - стандартизация нормального распределения:\n\n$$Z = \\frac{Y - np}{\\sqrt{np\\cdot(1-p)}} \\sim \\mathcal{N}(0, \\, 1) $$ \n\nПреобразуем выражение выше:\n\n$$Z = \\frac{Y - np}{\\sqrt{np\\cdot(1-p)}} = \\frac{\\frac{Y}{n} - p}{\\sqrt{\\frac{p(1-p)}{n}}} \\sim \\mathcal{N}(0, \\, 1) $$",
      "metadata": {}
    },
    {
      "cell_type": "markdown",
      "source": "Так как среднее значение по выборке - это наблюдаемый процент конверсии, то доверительный интервал будет выглядеть следующим образом:",
      "metadata": {}
    },
    {
      "cell_type": "markdown",
      "source": "$${P}\\left(p - z_{1-\\frac{\\alpha}{2}} \\sqrt{\\frac{p(1-p)}{n}} \\le \\mu \\le p + z_{1-\\frac{\\alpha}{2}}\\sqrt{\\frac{p(1-p)}{n}}\\right) = 1-\\alpha$$",
      "metadata": {}
    },
    {
      "cell_type": "markdown",
      "source": "### ЗАДАНИЕ",
      "metadata": {}
    },
    {
      "cell_type": "markdown",
      "source": "Найдите доверительный интервал для средней конверсии пользователей из контрольной выборки с уровнем значимости 95%. Округлите левую и правую границу с точностью до двух знаков после запятой. Запишите значения левой и правой границ через запятую, сохраняя приведенный порядок, в переменную `answer1`, которая будет являтся строкой.",
      "metadata": {}
    },
    {
      "cell_type": "markdown",
      "source": "#### РЕШЕНИЕ",
      "metadata": {}
    },
    {
      "cell_type": "code",
      "source": "df = pd.read_csv('a_b_testing.csv')\ndf.head()",
      "metadata": {
        "trusted": true
      },
      "outputs": [
        {
          "execution_count": 19,
          "output_type": "execute_result",
          "data": {
            "text/plain": "   converted group\n0          1     A\n1          0     A\n2          0     A\n3          1     B\n4          1     A",
            "text/html": "<div>\n<style scoped>\n    .dataframe tbody tr th:only-of-type {\n        vertical-align: middle;\n    }\n\n    .dataframe tbody tr th {\n        vertical-align: top;\n    }\n\n    .dataframe thead th {\n        text-align: right;\n    }\n</style>\n<table border=\"1\" class=\"dataframe\">\n  <thead>\n    <tr style=\"text-align: right;\">\n      <th></th>\n      <th>converted</th>\n      <th>group</th>\n    </tr>\n  </thead>\n  <tbody>\n    <tr>\n      <th>0</th>\n      <td>1</td>\n      <td>A</td>\n    </tr>\n    <tr>\n      <th>1</th>\n      <td>0</td>\n      <td>A</td>\n    </tr>\n    <tr>\n      <th>2</th>\n      <td>0</td>\n      <td>A</td>\n    </tr>\n    <tr>\n      <th>3</th>\n      <td>1</td>\n      <td>B</td>\n    </tr>\n    <tr>\n      <th>4</th>\n      <td>1</td>\n      <td>A</td>\n    </tr>\n  </tbody>\n</table>\n</div>"
          },
          "metadata": {}
        }
      ],
      "execution_count": 19
    },
    {
      "cell_type": "code",
      "source": "population = df[\"converted\"]\nsample = df[\"converted\"][df[\"group\"] == \"A\"]\n\nsample_mean = sample.mean()\nst_dev = population.std()\n\ndef compute_ci(sample, st_dev):\n    z_value = stats.norm.ppf(q = 0.95)\n    sample_size = len(sample)\n    interval = z_value * (st_dev/np.sqrt(sample_size))\n    conf_inv = (sample_mean - interval, sample_mean + interval)\n    return conf_inv\n\nconf_inv = compute_ci(sample, st_dev)\nanswer1 = f\"{round(conf_inv[0], 2)},{round(conf_inv[1], 2)}\"\nanswer1",
      "metadata": {
        "trusted": true
      },
      "outputs": [
        {
          "execution_count": 20,
          "output_type": "execute_result",
          "data": {
            "text/plain": "'0.39,0.43'"
          },
          "metadata": {}
        }
      ],
      "execution_count": 20
    },
    {
      "cell_type": "markdown",
      "source": "### Задача A/B тестирования",
      "metadata": {}
    },
    {
      "cell_type": "markdown",
      "source": "Рассмотрим независимые выборки $X$ и $Y$ для которых есть $\\mu_x$ и $\\mu_y$, определяющие среднее значение распределения.\n\nРассматривается следующая гипотеза:\n$$\nH_0: \\mu_x = \\mu_y\n$$\nпротив альтернативы:\n\n$$\nH_1: \\mu_x \\ne \\mu_y.\n$$",
      "metadata": {}
    },
    {
      "cell_type": "markdown",
      "source": "Если гипотеза $H_0$ отвергается, то показатель действительно поменялся.",
      "metadata": {}
    },
    {
      "cell_type": "markdown",
      "source": "Также можно тест можно записать и другим способом:\n$$\nH_0: \\mu_x \\le \\mu_y\n$$\n\nпротив альтернативы:\n\n$$\nH_1: \\mu_x > \\mu_y\n$$",
      "metadata": {}
    },
    {
      "cell_type": "markdown",
      "source": "### Задание по статистике Стьюдента ",
      "metadata": {}
    },
    {
      "cell_type": "markdown",
      "source": "Найдите значение статистики Стьюдента в предположении независимости выборок по формуле:",
      "metadata": {}
    },
    {
      "cell_type": "markdown",
      "source": "$$\nT(X, Y) = \\frac{\\bar{X} - \\bar{Y}}{\\sqrt{\\frac{s_x^2}{n} + \\frac{s_y^2}{m}}}\n$$\n\nгде `n` - размер контрольной выборки, `m`  - размер тестовой выборки.",
      "metadata": {}
    },
    {
      "cell_type": "markdown",
      "source": "Ответ запишите в переменную `answer2` с точностью до двух знаков после запятой.",
      "metadata": {}
    },
    {
      "cell_type": "markdown",
      "source": "### РЕШЕНИЕ",
      "metadata": {}
    },
    {
      "cell_type": "code",
      "source": "x = df[\"converted\"][df[\"group\"] == \"A\"]\ny = df[\"converted\"][df[\"group\"] == \"B\"]\n\nt = (x.mean() - y.mean()) / (np.sqrt(x.std()**2/len(x) + y.std()**2/len(y)))\nanswer2 = round(t, 2)\nanswer2",
      "metadata": {
        "trusted": true
      },
      "outputs": [
        {
          "execution_count": 21,
          "output_type": "execute_result",
          "data": {
            "text/plain": "-1.61"
          },
          "metadata": {}
        }
      ],
      "execution_count": 21
    },
    {
      "cell_type": "markdown",
      "source": "### Статистика Стьюдента из библиотеки Scipy",
      "metadata": {}
    },
    {
      "cell_type": "markdown",
      "source": "Найдите p-value для статистики Стьюдента, используя функцию `stats.ttest_ind`.",
      "metadata": {}
    },
    {
      "cell_type": "markdown",
      "source": "### РЕШЕНИЕ",
      "metadata": {}
    },
    {
      "cell_type": "code",
      "source": "from scipy.stats import ttest_ind\n\nttest = stats.ttest_ind(x, y)\nttest",
      "metadata": {
        "trusted": true
      },
      "outputs": [
        {
          "execution_count": 22,
          "output_type": "execute_result",
          "data": {
            "text/plain": "TtestResult(statistic=-1.6126205013707797, pvalue=0.10690590820177126, df=3998.0)"
          },
          "metadata": {}
        }
      ],
      "execution_count": 22
    },
    {
      "cell_type": "code",
      "source": "pv = ttest[1]\npv",
      "metadata": {
        "trusted": true
      },
      "outputs": [
        {
          "execution_count": 23,
          "output_type": "execute_result",
          "data": {
            "text/plain": "0.10690590820177126"
          },
          "metadata": {}
        }
      ],
      "execution_count": 23
    },
    {
      "cell_type": "code",
      "source": "answer3 = round(pv, 2)\nanswer3",
      "metadata": {
        "trusted": true
      },
      "outputs": [
        {
          "execution_count": 24,
          "output_type": "execute_result",
          "data": {
            "text/plain": "0.11"
          },
          "metadata": {}
        }
      ],
      "execution_count": 24
    },
    {
      "cell_type": "markdown",
      "source": "Дополнительная проверка: значение статистики Стьюдента, посчитанная двумя способами, должны совпадать.",
      "metadata": {}
    },
    {
      "cell_type": "markdown",
      "source": "Ответ запишите в переменную `answer3` с точностью до 2 знака после запятой",
      "metadata": {}
    },
    {
      "cell_type": "code",
      "source": "output = \"\"\"Confidence interval:{0}\nT score custom {1:.2f}\np value {2:.2f}\"\"\"\nprint(output.format(answer1, answer2, answer3))",
      "metadata": {
        "trusted": true
      },
      "outputs": [
        {
          "name": "stdout",
          "text": "Confidence interval:0.39,0.43\nT score custom -1.61\np value 0.11\n",
          "output_type": "stream"
        }
      ],
      "execution_count": 25
    }
  ]
}