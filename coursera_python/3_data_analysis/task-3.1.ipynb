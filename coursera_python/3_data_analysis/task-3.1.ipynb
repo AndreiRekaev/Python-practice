{
  "metadata": {
    "kernelspec": {
      "name": "python",
      "display_name": "Python (Pyodide)",
      "language": "python"
    },
    "language_info": {
      "codemirror_mode": {
        "name": "python",
        "version": 3
      },
      "file_extension": ".py",
      "mimetype": "text/x-python",
      "name": "python",
      "nbconvert_exporter": "python",
      "pygments_lexer": "ipython3",
      "version": "3.8"
    }
  },
  "nbformat_minor": 4,
  "nbformat": 4,
  "cells": [
    {
      "cell_type": "markdown",
      "source": "# Практическое задание",
      "metadata": {}
    },
    {
      "cell_type": "markdown",
      "source": "В этом практическом задании мы поработаем с алгоритмом линейной регрессии и нормализацией признаков. Для начала загрузите данные из файла `data.csv`, который содержит 100 признаков f1, f2, ..., f100 и целевую переменную target. Для загрузки данных используете функцию `read_csv` из библиотеки `pandas`. Выделите матрицу признаков и целевую переменную из загруженных данных.",
      "metadata": {}
    },
    {
      "cell_type": "markdown",
      "source": "### *РЕШЕНИЕ*",
      "metadata": {}
    },
    {
      "cell_type": "code",
      "source": "import numpy as np\nimport pandas as pd\n\ndata = pd.read_csv('data.csv')\n\nX = data[data.columns[:-1]]\ny = np.array(data['target'])",
      "metadata": {
        "trusted": true
      },
      "outputs": [],
      "execution_count": 6
    },
    {
      "cell_type": "markdown",
      "source": "Далее, разделите загруженный датасет на тренировочную и тестовую выборку. Для этого используйте функцию `train_test_split` из модуля `sklearn.model_selection` с параметрами `random_state=42` и `test_size=0.33`. Обучите линейную регрессию на тренировочных данных и оцените среднеквадратическую ошибку на тестовых данных. Один из вариантов линейной регрессии в `scikit-learn` представлен классом `Ridge` из `sklearn.linear_model`.\nИспользуйте параметр `random_state=42` в конструкторе класса при создании его экземпляра. Оценку среднеквадратичной ошибки проведите с помощью функции `mean_squared_error` из модуля `sklearn.metrics`. В качестве ответа `answer1` приведите это значение округлённое с точностью до двух знаков.",
      "metadata": {}
    },
    {
      "cell_type": "markdown",
      "source": "### *РЕШЕНИЕ*",
      "metadata": {}
    },
    {
      "cell_type": "code",
      "source": "from sklearn.model_selection import train_test_split\nfrom sklearn.linear_model import Ridge\nfrom sklearn.metrics import mean_squared_error\n\nX_train, X_test, y_train, y_test = train_test_split(X, y, test_size=0.33, random_state=42)\nmodel = Ridge(random_state=42)\nmodel.fit(X_train, y_train)\ny_pred = model.predict(X_test)\nscore = mean_squared_error(y_test, y_pred)\nanswer1 = round(score, 2)\nanswer1",
      "metadata": {
        "trusted": true
      },
      "outputs": [
        {
          "execution_count": 7,
          "output_type": "execute_result",
          "data": {
            "text/plain": "4921.83"
          },
          "metadata": {}
        }
      ],
      "execution_count": 7
    },
    {
      "cell_type": "markdown",
      "source": "Далее вам предлагается стандартизовать данные используя `StandardScaler` из `sklearn.preprocessing`. По своей сути операция стандартизации в данном случае представляет из себя вычитание среднего из матрицы признаков и деление на среднеквадратическое отклонение. \n\n<font color  = \"red\">Важно:</font> Сначала следует разбить выборку на тренировочную и тестовую и лишь потом стандартизировать их по отдельности. Помните, что к тренировочной выборке мы должны применять метод `fit_transform()`, а к тестовой только `transform()`. Как изменилось качество на тестовых данных? В `answer2` запишите значение среднеквадратической ошибки, округлённое с точностью до двух знаков после запятой.",
      "metadata": {}
    },
    {
      "cell_type": "code",
      "source": "from sklearn.preprocessing import StandardScaler\nX_train, X_test, y_train, y_test = train_test_split(X, y, test_size=0.33, random_state=42)\nstd = StandardScaler()\nX_train_std = std.fit_transform(X_train)\nX_test_std = std.transform(X_test)\nmodel = Ridge(random_state = 42)\nmodel.fit(X_train_std, y_train)\ny_pred = model.predict(X_test_std)\nscore = mean_squared_error(y_test, y_pred)\nanswer2 = round(score, 2)\nanswer2",
      "metadata": {
        "trusted": true
      },
      "outputs": [
        {
          "execution_count": 9,
          "output_type": "execute_result",
          "data": {
            "text/plain": "4195.0"
          },
          "metadata": {}
        }
      ],
      "execution_count": 9
    },
    {
      "cell_type": "markdown",
      "source": "## Строка с ответами",
      "metadata": {}
    },
    {
      "cell_type": "code",
      "source": "print('mse 1: {0:.2f}\\nmse 2: {1:.2f}'.format(answer1, answer2))",
      "metadata": {
        "trusted": true
      },
      "outputs": [
        {
          "name": "stdout",
          "text": "mse 1: 4921.83\nmse 2: 4195.00\n",
          "output_type": "stream"
        }
      ],
      "execution_count": 10
    }
  ]
}