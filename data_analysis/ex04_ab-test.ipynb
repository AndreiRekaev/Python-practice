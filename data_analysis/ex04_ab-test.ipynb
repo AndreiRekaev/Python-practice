{
 "cells": [
  {
   "cell_type": "markdown",
   "id": "5b7024b7-173c-4701-abb9-a98cd475e104",
   "metadata": {},
   "source": [
    "## Exercise 04 : A/B-testing"
   ]
  },
  {
   "cell_type": "code",
   "execution_count": 105,
   "id": "a964534a-7f7f-47df-9b4a-a27b200502b4",
   "metadata": {},
   "outputs": [],
   "source": [
    "import pandas as pd\n",
    "import sqlite3"
   ]
  },
  {
   "cell_type": "markdown",
   "id": "1fa8a69e-b956-458f-9740-e3e75c44bf6a",
   "metadata": {},
   "source": [
    "## create a connection to the database using the library sqlite3\n",
    "## using only one query for each of the groups, create two dataframes: test_results and control_results with the columns time and avg_diff and only two rows\n",
    "\n",
    "- time should have the values: after and before\n",
    "- avg_diff contains the average delta among all the users for the time period\n",
    "before each of them made their first visit to the page and afterward\n",
    "- only take into account the users that have observations before and after\n",
    "- we still are not using the lab ’project1’"
   ]
  },
  {
   "cell_type": "code",
   "execution_count": 108,
   "id": "5c3fab10-97df-4087-bffa-9cced0b9e269",
   "metadata": {},
   "outputs": [
    {
     "name": "stdout",
     "output_type": "stream",
     "text": [
      "OK. Connected to sqlite\n"
     ]
    }
   ],
   "source": [
    "try:\n",
    "  connect = sqlite3.connect('data/checking-logs.sqlite')\n",
    "  print('OK. Connected to sqlite')\n",
    "\n",
    "except sqlite3.Error as error:\n",
    "  print('Error with connection:', error)"
   ]
  },
  {
   "cell_type": "code",
   "execution_count": 110,
   "id": "8c25fa1b-8c63-4967-af5c-a3d30890d351",
   "metadata": {},
   "outputs": [
    {
     "data": {
      "text/html": [
       "<div>\n",
       "<style scoped>\n",
       "    .dataframe tbody tr th:only-of-type {\n",
       "        vertical-align: middle;\n",
       "    }\n",
       "\n",
       "    .dataframe tbody tr th {\n",
       "        vertical-align: top;\n",
       "    }\n",
       "\n",
       "    .dataframe thead th {\n",
       "        text-align: right;\n",
       "    }\n",
       "</style>\n",
       "<table border=\"1\" class=\"dataframe\">\n",
       "  <thead>\n",
       "    <tr style=\"text-align: right;\">\n",
       "      <th></th>\n",
       "      <th>time</th>\n",
       "      <th>avg_diff</th>\n",
       "    </tr>\n",
       "  </thead>\n",
       "  <tbody>\n",
       "    <tr>\n",
       "      <th>0</th>\n",
       "      <td>after</td>\n",
       "      <td>104.6000</td>\n",
       "    </tr>\n",
       "    <tr>\n",
       "      <th>1</th>\n",
       "      <td>before</td>\n",
       "      <td>60.5625</td>\n",
       "    </tr>\n",
       "  </tbody>\n",
       "</table>\n",
       "</div>"
      ],
      "text/plain": [
       "     time  avg_diff\n",
       "0   after  104.6000\n",
       "1  before   60.5625"
      ]
     },
     "execution_count": 110,
     "metadata": {},
     "output_type": "execute_result"
    }
   ],
   "source": [
    "query = '''\n",
    "WITH user_deltas AS (\n",
    "    SELECT \n",
    "        t.uid,\n",
    "        t.first_commit_ts,\n",
    "        t.first_view_ts,\n",
    "        d.deadlines,\n",
    "        CAST((JulianDay(d.deadlines, 'unixepoch') - JulianDay(t.first_commit_ts)) * 24 AS INT) AS delta_hours\n",
    "    FROM test t\n",
    "    LEFT JOIN deadlines d ON t.labname = d.labs\n",
    "    WHERE t.labname != 'project1'\n",
    "),\n",
    "users_with_both_times AS (\n",
    "    SELECT uid\n",
    "    FROM (\n",
    "        SELECT \n",
    "            uid,\n",
    "            CASE WHEN first_commit_ts < first_view_ts THEN 'before'\n",
    "                 ELSE 'after'\n",
    "            END as time\n",
    "        FROM test\n",
    "        LEFT JOIN deadlines ON test.labname=deadlines.labs\n",
    "        WHERE labname <> 'project1'\n",
    "    ) t\n",
    "    GROUP BY uid\n",
    "    HAVING COUNT(DISTINCT time)=2\n",
    ")\n",
    "\n",
    "SELECT \n",
    "    CASE \n",
    "        WHEN t.first_commit_ts < t.first_view_ts THEN 'before'\n",
    "        ELSE 'after'\n",
    "    END AS time,\n",
    "    AVG(t.delta_hours) AS avg_diff\n",
    "FROM user_deltas t\n",
    "JOIN users_with_both_times u ON t.uid = u.uid\n",
    "GROUP BY time;\n",
    "'''\n",
    "\n",
    "test_results = pd.io.sql.read_sql(query, connect)\n",
    "test_results"
   ]
  },
  {
   "cell_type": "code",
   "execution_count": 112,
   "id": "5253f519-2f5e-49e0-bbca-2b87b54151a0",
   "metadata": {},
   "outputs": [
    {
     "data": {
      "text/html": [
       "<div>\n",
       "<style scoped>\n",
       "    .dataframe tbody tr th:only-of-type {\n",
       "        vertical-align: middle;\n",
       "    }\n",
       "\n",
       "    .dataframe tbody tr th {\n",
       "        vertical-align: top;\n",
       "    }\n",
       "\n",
       "    .dataframe thead th {\n",
       "        text-align: right;\n",
       "    }\n",
       "</style>\n",
       "<table border=\"1\" class=\"dataframe\">\n",
       "  <thead>\n",
       "    <tr style=\"text-align: right;\">\n",
       "      <th></th>\n",
       "      <th>time</th>\n",
       "      <th>avg_diff</th>\n",
       "    </tr>\n",
       "  </thead>\n",
       "  <tbody>\n",
       "    <tr>\n",
       "      <th>0</th>\n",
       "      <td>after</td>\n",
       "      <td>117.636364</td>\n",
       "    </tr>\n",
       "    <tr>\n",
       "      <th>1</th>\n",
       "      <td>before</td>\n",
       "      <td>99.464286</td>\n",
       "    </tr>\n",
       "  </tbody>\n",
       "</table>\n",
       "</div>"
      ],
      "text/plain": [
       "     time    avg_diff\n",
       "0   after  117.636364\n",
       "1  before   99.464286"
      ]
     },
     "execution_count": 112,
     "metadata": {},
     "output_type": "execute_result"
    }
   ],
   "source": [
    "query = '''\n",
    "WITH user_deltas AS (\n",
    "    SELECT \n",
    "        c.uid,\n",
    "        c.first_commit_ts,\n",
    "        c.first_view_ts,\n",
    "        d.deadlines,\n",
    "        CAST((JulianDay(d.deadlines, 'unixepoch') - JulianDay(c.first_commit_ts)) * 24 AS INT) AS delta_hours\n",
    "    FROM control c\n",
    "    LEFT JOIN deadlines d ON c.labname = d.labs\n",
    "    WHERE c.labname != 'project1'\n",
    "),\n",
    "users_with_both_times AS (\n",
    "    SELECT uid\n",
    "    FROM (\n",
    "        SELECT \n",
    "            uid,\n",
    "            CASE WHEN first_commit_ts < first_view_ts THEN 'before'\n",
    "                 ELSE 'after'\n",
    "            END as time\n",
    "        FROM control\n",
    "        LEFT JOIN deadlines ON control.labname=deadlines.labs\n",
    "        WHERE labname <> 'project1'\n",
    "    ) c\n",
    "    GROUP BY uid\n",
    "    HAVING COUNT(DISTINCT time)=2\n",
    ")\n",
    "\n",
    "SELECT \n",
    "    CASE \n",
    "        WHEN c.first_commit_ts < c.first_view_ts THEN 'before'\n",
    "        ELSE 'after'\n",
    "    END AS time,\n",
    "    AVG(c.delta_hours) AS avg_diff\n",
    "FROM user_deltas c\n",
    "JOIN users_with_both_times u ON c.uid = u.uid\n",
    "GROUP BY time;\n",
    "'''\n",
    "control_results = pd.io.sql.read_sql(query, connect)\n",
    "control_results"
   ]
  },
  {
   "cell_type": "code",
   "execution_count": 114,
   "id": "b146f38b-af06-49cd-9a9c-71b7b1806240",
   "metadata": {},
   "outputs": [
    {
     "name": "stdout",
     "output_type": "stream",
     "text": [
      "42.0 %\n"
     ]
    }
   ],
   "source": [
    "percent_test = round((test_results.avg_diff[0] - test_results.avg_diff[1]) / test_results.avg_diff[0] * 100, 0)\n",
    "print(percent_test, '%')"
   ]
  },
  {
   "cell_type": "code",
   "execution_count": 116,
   "id": "ec516d2f-bce7-4612-9f7b-4eab32313aa0",
   "metadata": {},
   "outputs": [
    {
     "name": "stdout",
     "output_type": "stream",
     "text": [
      "15.0 %\n"
     ]
    }
   ],
   "source": [
    "percent_control = round((control_results.avg_diff[0] - control_results.avg_diff[1]) / control_results.avg_diff[0] * 100, 0)\n",
    "print(percent_control, '%')"
   ]
  },
  {
   "cell_type": "markdown",
   "id": "5fd4fbc4-636c-45af-a70a-f37d305a2695",
   "metadata": {},
   "source": [
    "## В тестовой группе дельта до первого посещения новостной ленты значительно отличается по сравнению с дельтой после.\n",
    "## Эта разница существенно меньше в контрольной группе.\n",
    "## Гипотеза подтвердилась. Новостная лента положительно повлияла на поведение студентов: они начали работать над лабораторными работами раньше. В контрольной группе такого значительного эффекта не наблюдается, что подтверждает, что изменения связаны именно с новостной лентой. Создание страницы было удачной идеей, и ее можно внедрить для всей группы."
   ]
  }
 ],
 "metadata": {
  "kernelspec": {
   "display_name": "Python Andrei",
   "language": "python",
   "name": "python3"
  },
  "language_info": {
   "codemirror_mode": {
    "name": "ipython",
    "version": 3
   },
   "file_extension": ".py",
   "mimetype": "text/x-python",
   "name": "python",
   "nbconvert_exporter": "python",
   "pygments_lexer": "ipython3",
   "version": "3.12.7"
  }
 },
 "nbformat": 4,
 "nbformat_minor": 5
}
