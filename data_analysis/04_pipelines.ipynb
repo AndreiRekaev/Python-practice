{
 "cells": [
  {
   "cell_type": "markdown",
   "metadata": {},
   "source": [
    "# Day 09. Exercise 04\n",
    "# Pipelines and OOP"
   ]
  },
  {
   "cell_type": "markdown",
   "metadata": {},
   "source": [
    "## 0. Imports"
   ]
  },
  {
   "cell_type": "code",
   "execution_count": 5,
   "metadata": {},
   "outputs": [
    {
     "name": "stderr",
     "output_type": "stream",
     "text": [
      "C:\\ProgramData\\Anaconda3\\Lib\\site-packages\\tqdm_joblib\\__init__.py:4: TqdmExperimentalWarning: Using `tqdm.autonotebook.tqdm` in notebook mode. Use `tqdm.tqdm` instead to force console mode (e.g. in jupyter console)\n",
      "  from tqdm.autonotebook import tqdm\n"
     ]
    }
   ],
   "source": [
    "import pandas as pd\n",
    "from sklearn.base import BaseEstimator, TransformerMixin\n",
    "from sklearn.preprocessing import OneHotEncoder\n",
    "from sklearn.model_selection import train_test_split\n",
    "from sklearn.pipeline import Pipeline\n",
    "from sklearn.model_selection import GridSearchCV\n",
    "from tqdm.notebook import tqdm\n",
    "import joblib\n",
    "from sklearn.svm import SVC\n",
    "from sklearn.tree import DecisionTreeClassifier\n",
    "from sklearn.ensemble import RandomForestClassifier\n",
    "\n",
    "from sklearn.model_selection import ParameterGrid\n",
    "from sklearn.base import clone\n",
    "from joblib import Parallel, delayed\n",
    "from tqdm_joblib import tqdm_joblib"
   ]
  },
  {
   "cell_type": "markdown",
   "metadata": {},
   "source": [
    "## 1. Preprocessing pipeline"
   ]
  },
  {
   "cell_type": "markdown",
   "metadata": {},
   "source": [
    "Create three custom transformers, the first two out of which will be used within a [Pipeline](https://scikit-learn.org/stable/modules/generated/sklearn.pipeline.Pipeline.html).\n",
    "\n",
    "1. `FeatureExtractor()` class:\n",
    " - Takes a dataframe with `uid`, `labname`, `numTrials`, `timestamp` from the file [`checker_submits.csv`](https://drive.google.com/file/d/14voc4fNJZiLEFaZyd8nEG-lQt5JjatYw/view?usp=sharing).\n",
    " - Extracts `hour` from `timestamp`.\n",
    " - Extracts `weekday` from `timestamp` (numbers).\n",
    " - Drops the `timestamp` column.\n",
    " - Returns the new dataframe.\n",
    "\n",
    "\n",
    "2. `MyOneHotEncoder()` class:\n",
    " - Takes the dataframe from the result of the previous transformation and the name of the target column.\n",
    " - Identifies all the categorical features and transforms them with `OneHotEncoder()`. If the target column is categorical too, then the transformation should not apply to it.\n",
    " - Drops the initial categorical features.\n",
    " - Returns the dataframe with the features and the series with the target column.\n",
    "\n",
    "\n",
    "3. `TrainValidationTest()` class:\n",
    " - Takes `X` and `y`.\n",
    " - Returns `X_train`, `X_valid`, `X_test`, `y_train`, `y_valid`, `y_test` (`test_size=0.2`, `random_state=21`, `stratified`).\n"
   ]
  },
  {
   "cell_type": "code",
   "execution_count": 9,
   "metadata": {},
   "outputs": [],
   "source": [
    "class FeatureExtractor(BaseEstimator, TransformerMixin):\n",
    "    def fit(self, X, y=None):\n",
    "        return self\n",
    "    \n",
    "    def transform(self, X):\n",
    "        if not isinstance(X, pd.DataFrame):\n",
    "            raise ValueError(\"Input must be a pandas DataFrame.\")\n",
    "        \n",
    "        X['hour'] = pd.to_datetime(X['timestamp']).dt.hour\n",
    "        X['dayofweek'] = pd.to_datetime(X['timestamp']).dt.weekday\n",
    "        \n",
    "        # Drop the original timestamp column\n",
    "        X = X.drop(columns=['timestamp'])\n",
    "        \n",
    "        return X"
   ]
  },
  {
   "cell_type": "code",
   "execution_count": 11,
   "metadata": {},
   "outputs": [],
   "source": [
    "class MyOneHotEncoder(BaseEstimator, TransformerMixin):\n",
    "    def __init__(self, target_column):\n",
    "        self.target_column = target_column\n",
    "        self.encoder = OneHotEncoder(sparse_output=False, drop='first')\n",
    "\n",
    "    def fit(self, X, y=None):\n",
    "        # Определите категориальные признаки, кроме целевого\n",
    "        self.categorical_features_ = X.select_dtypes(include=['object', 'category']).columns.tolist()\n",
    "        if self.target_column in self.categorical_features_:\n",
    "            self.categorical_features_.remove(self.target_column)\n",
    "\n",
    "        # Поддержка только категориальных признаков\n",
    "        self.encoder.fit(X[self.categorical_features_])\n",
    "        return self\n",
    "\n",
    "    def transform(self, X):\n",
    "        if not isinstance(X, pd.DataFrame):\n",
    "            raise ValueError(\"Input must be a pandas DataFrame.\")\n",
    "\n",
    "        y = X[self.target_column]\n",
    "        X_features = X.drop(columns=[self.target_column])\n",
    "\n",
    "        # Примените OneHotEncoder к категориальным признакам\n",
    "        X_encoded = self.encoder.transform(X_features[self.categorical_features_])\n",
    "        encoded_columns = self.encoder.get_feature_names_out(self.categorical_features_)\n",
    "\n",
    "        # Создайте DataFrame из закодированных признаков\n",
    "        X_encoded_df = pd.DataFrame(X_encoded, columns=encoded_columns, index=X.index)\n",
    "\n",
    "        # Объедините закодированные признаки с оставшимися столбцами\n",
    "        X_non_categorical = X_features.drop(columns=self.categorical_features_)\n",
    "        X_result = pd.concat([X_non_categorical, X_encoded_df, y], axis=1)\n",
    "\n",
    "        return X_result"
   ]
  },
  {
   "cell_type": "code",
   "execution_count": 13,
   "metadata": {},
   "outputs": [],
   "source": [
    "class TrainValidationTest:\n",
    "    def __init__(self, test_size=0.2, random_state=21):\n",
    "        self.test_size = test_size\n",
    "        self.random_state = random_state\n",
    "    \n",
    "    def split(self, X, y):\n",
    "        # First split X and y into training + validation, and testing\n",
    "        X_train_val, X_test, y_train_val, y_test = train_test_split(\n",
    "            X, y, test_size=self.test_size, random_state=self.random_state, stratify=y\n",
    "        )\n",
    "        \n",
    "        # Then split training + validation into training and validation\n",
    "        X_train, X_valid, y_train, y_valid = train_test_split(\n",
    "            X_train_val, y_train_val, test_size=self.test_size, random_state=self.random_state, stratify=y_train_val\n",
    "        )\n",
    "        \n",
    "        return X_train, X_valid, X_test, y_train, y_valid, y_test"
   ]
  },
  {
   "cell_type": "markdown",
   "metadata": {},
   "source": [
    "## 2. Model selection pipeline"
   ]
  },
  {
   "cell_type": "markdown",
   "metadata": {},
   "source": [
    "`ModelSelection()` class\n",
    "\n",
    " - Takes a list of `GridSearchCV` instances and a dict where the keys are the indexes from that list and the values are the names of the models, the example is below in the reverse order (from high-level to low-level perspective):\n",
    "\n",
    "```\n",
    "ModelSelection(grids, grid_dict)\n",
    "\n",
    "grids = [gs_svm, gs_tree, gs_rf]\n",
    "\n",
    "gs_svm = GridSearchCV(estimator=svm, param_grid=svm_params, scoring='accuracy', cv=2, n_jobs=jobs), where jobs you can specify by yourself\n",
    "\n",
    "svm_params = [{'kernel':('linear', 'rbf', 'sigmoid'), 'C':[0.01, 0.1, 1, 1.5, 5, 10], 'gamma': ['scale', 'auto'], 'class_weight':('balanced', None), 'random_state':[21], 'probability':[True]}]\n",
    "```\n",
    "\n",
    " - Method `choose()` takes `X_train`, `y_train`, `X_valid`, `y_valid` and returns the name of the best classifier among all the models on the validation set\n",
    " - Method `best_results()` returns a dataframe with the columns `model`, `params`, `valid_score` where the rows are the best models within each class of models.\n",
    "\n",
    "```\n",
    "model\tparams\tvalid_score\n",
    "0\tSVM\t{'C': 10, 'class_weight': None, 'gamma': 'auto...\t0.772727\n",
    "1\tDecision Tree\t{'class_weight': 'balanced', 'criterion': 'gin...\t0.801484\n",
    "2\tRandom Forest\t{'class_weight': None, 'criterion': 'entropy',...\t0.855288\n",
    "```\n",
    "\n",
    " - When you iterate through the parameters of a model class, print the name of that class and show the progress using `tqdm.notebook`, in the end of the cycle print the best model of that class.\n",
    "\n",
    "```\n",
    "Estimator: SVM\n",
    "100%\n",
    "125/125 [01:32<00:00, 1.36it/s]\n",
    "Best params: {'C': 10, 'class_weight': None, 'gamma': 'auto', 'kernel': 'rbf', 'probability': True, 'random_state': 21}\n",
    "Best training accuracy: 0.773\n",
    "Validation set accuracy score for best params: 0.878 \n",
    "\n",
    "Estimator: Decision Tree\n",
    "100%\n",
    "57/57 [01:07<00:00, 1.22it/s]\n",
    "Best params: {'class_weight': 'balanced', 'criterion': 'gini', 'max_depth': 21, 'random_state': 21}\n",
    "Best training accuracy: 0.801\n",
    "Validation set accuracy score for best params: 0.867 \n",
    "\n",
    "Estimator: Random Forest\n",
    "100%\n",
    "284/284 [06:47<00:00, 1.13s/it]\n",
    "Best params: {'class_weight': None, 'criterion': 'entropy', 'max_depth': 22, 'n_estimators': 50, 'random_state': 21}\n",
    "Best training accuracy: 0.855\n",
    "Validation set accuracy score for best params: 0.907 \n",
    "\n",
    "Classifier with best validation set accuracy: Random Forest\n",
    "```"
   ]
  },
  {
   "cell_type": "code",
   "execution_count": 17,
   "metadata": {},
   "outputs": [],
   "source": [
    "def fit_model(params, estimator, X_train, y_train):\n",
    "        # Клонируем модель и устанавливаем параметры\n",
    "        model = clone(estimator)\n",
    "        model.set_params(**params)\n",
    "        # Обучаем модель\n",
    "        model.fit(X_train, y_train)\n",
    "        return model\n",
    "\n",
    "class ModelSelection:\n",
    "    def __init__(self, grids, grid_dict):\n",
    "        self.grids = grids\n",
    "        self.grid_dict = grid_dict\n",
    "        self.best_results_list = []\n",
    "\n",
    "    \n",
    "    def choose(self, X_train, y_train, X_valid, y_valid):\n",
    "        best_model_name = None\n",
    "        best_valid_score = -1  # Инициализируем с отрицательного значения\n",
    "        for idx, grid in enumerate(self.grids):\n",
    "            model_name = self.grid_dict[idx]\n",
    "            print(f\"Estimator: {model_name}\")\n",
    "\n",
    "            pbar = tqdm(total=1, desc=\"Fitting model\")\n",
    "        \n",
    "            # Обучаем модель\n",
    "            grid.fit(X_train, y_train)\n",
    "            pbar.update()\n",
    "            # Закрываем прогресс-бар\n",
    "            pbar.close()\n",
    "\n",
    "            # Получаем лучший набор параметров и оценки\n",
    "            best_params = grid.best_params_\n",
    "            best_model = grid.best_estimator_\n",
    "            train_score = best_model.score(X_train, y_train)\n",
    "            valid_score = best_model.score(X_valid, y_valid)\n",
    "\n",
    "             # Печать результатов для текущей модели\n",
    "            print(f\"Best params: {best_params}\")\n",
    "            print(f\"Best training accuracy: {train_score:.3f}\")\n",
    "            print(f\"Validation set accuracy score for best params: {valid_score:.3f}\")\n",
    "            print(\"-\" * 50)\n",
    "\n",
    "            # Запись результатов\n",
    "            self.best_results_list.append({\n",
    "                'model': model_name,\n",
    "                'params': best_params,\n",
    "                'train_score': train_score,\n",
    "                'valid_score': valid_score\n",
    "            })\n",
    "\n",
    "            # Сравниваем с текущим лучшим значением\n",
    "            if valid_score > best_valid_score:\n",
    "                best_valid_score = valid_score\n",
    "                best_model_name = model_name\n",
    "                \n",
    "        # Печать лучшей модели в конце\n",
    "        print(f\"\\nClassifier with best validation set accuracy:: {best_model_name}\")\n",
    "\n",
    "        return best_model_name\n",
    "\n",
    "    def best_results(self):\n",
    "        # Создаем DataFrame из списка лучших результатов\n",
    "        return pd.DataFrame(self.best_results_list)"
   ]
  },
  {
   "cell_type": "markdown",
   "metadata": {},
   "source": [
    "## 3. Finalization"
   ]
  },
  {
   "cell_type": "markdown",
   "metadata": {},
   "source": [
    "`Finalize()` class\n",
    " - Takes an estimator.\n",
    " - Method `final_score()` takes `X_train`, `y_train`, `X_test`, `y_test` and returns the accuracy of the model as in the example below:\n",
    "```\n",
    "final.final_score(X_train, y_train, X_test, y_test)\n",
    "Accuracy of the final model is 0.908284023668639\n",
    "```\n",
    " - Method `save_model()` takes a path, saves the model to this path and prints that the model was successfully saved."
   ]
  },
  {
   "cell_type": "code",
   "execution_count": 21,
   "metadata": {},
   "outputs": [],
   "source": [
    "class Finalize:\n",
    "    def __init__(self, estimator):\n",
    "        self.estimator = estimator\n",
    "\n",
    "    def final_score(self, X_train, y_train, X_test, y_test):\n",
    "        # Обучаем модель на обучающем наборе\n",
    "        self.estimator.fit(X_train, y_train)\n",
    "        # Получаем прогнозы и считаем точность\n",
    "        accuracy = self.estimator.score(X_test, y_test)\n",
    "        print(f\"Accuracy of the final model is {accuracy:.6f}\")\n",
    "        return accuracy\n",
    "\n",
    "    def save_model(self, path):\n",
    "        joblib.dump(self.estimator, path)\n",
    "        print(f\"Model successfully saved to {path}\")"
   ]
  },
  {
   "cell_type": "markdown",
   "metadata": {},
   "source": [
    "## 4. Main program"
   ]
  },
  {
   "cell_type": "markdown",
   "metadata": {},
   "source": [
    "1. Load the data from the file (****name of file****).\n",
    "2. Create the preprocessing pipeline that consists of two custom transformers: `FeatureExtractor()` and `MyOneHotEncoder()`:\n",
    "```\n",
    "preprocessing = Pipeline([('feature_extractor', FeatureExtractor()), ('onehot_encoder', MyOneHotEncoder('dayofweek'))])\n",
    "```\n",
    "3. Use that pipeline and its method `fit_transform()` on the initial dataset.\n",
    "```\n",
    "data = preprocessing.fit_transform(df)\n",
    "```\n",
    "4. Get `X_train`, `X_valid`, `X_test`, `y_train`, `y_valid`, `y_test` using `TrainValidationTest()` and the result of the pipeline.\n",
    "5. Create an instance of `ModelSelection()`, use the method `choose()` applying it to the models that you want and parameters that you want, get the dataframe of the best results.\n",
    "6. create an instance of `Finalize()` with your best model, use method `final_score()` and save the model in the format: `name_of_the_model_{accuracy on test dataset}.sav`.\n",
    "\n",
    "That is it, congrats!"
   ]
  },
  {
   "cell_type": "code",
   "execution_count": 25,
   "metadata": {},
   "outputs": [],
   "source": [
    "df = pd.read_csv(\"data/checker_submits.csv\")"
   ]
  },
  {
   "cell_type": "code",
   "execution_count": 27,
   "metadata": {},
   "outputs": [],
   "source": [
    "preprocessing = Pipeline([\n",
    "    ('feature_extractor', FeatureExtractor()),\n",
    "    ('onehot_encoder', MyOneHotEncoder('dayofweek'))\n",
    "])"
   ]
  },
  {
   "cell_type": "code",
   "execution_count": 29,
   "metadata": {},
   "outputs": [],
   "source": [
    "data = preprocessing.fit_transform(df)"
   ]
  },
  {
   "cell_type": "code",
   "execution_count": 31,
   "metadata": {},
   "outputs": [],
   "source": [
    "X_train, X_valid, X_test, y_train, y_valid, y_test = TrainValidationTest().split(data.drop('dayofweek', axis=1), data['dayofweek'])"
   ]
  },
  {
   "cell_type": "code",
   "execution_count": 33,
   "metadata": {},
   "outputs": [],
   "source": [
    "# Set up GridSearchCV instances for multiple models\n",
    "svm_params = [{'kernel': ('linear', 'rbf', 'sigmoid'), 'C': [0.01, 0.1, 1, 1.5, 5, 10], \"random_state\":[21]}]\n",
    "gs_svm = GridSearchCV(estimator=SVC(), param_grid=svm_params, scoring='accuracy', cv=2, n_jobs=1)\n",
    "\n",
    "dt_params = [{'max_depth': [None, 10, 20, 30], \"random_state\":[21]}]\n",
    "gs_tree = GridSearchCV(estimator=DecisionTreeClassifier(), param_grid=dt_params, scoring='accuracy', cv=2, n_jobs=1)\n",
    "\n",
    "rf_params = [{'n_estimators': [10, 50, 100], 'max_depth': [None, 10, 20], \"random_state\":[21]}]\n",
    "gs_rf = GridSearchCV(estimator=RandomForestClassifier(), param_grid=rf_params, scoring='accuracy', cv=2, n_jobs=1)\n",
    "\n",
    "grids = [gs_svm, gs_tree, gs_rf]\n",
    "grid_dict = {0: 'SVM', 1: 'Decision Tree', 2: 'Random Forest'}"
   ]
  },
  {
   "cell_type": "code",
   "execution_count": 35,
   "metadata": {},
   "outputs": [
    {
     "name": "stdout",
     "output_type": "stream",
     "text": [
      "Estimator: SVM\n"
     ]
    },
    {
     "data": {
      "application/vnd.jupyter.widget-view+json": {
       "model_id": "a10c763faebc4c74b1379a07cb0ca95a",
       "version_major": 2,
       "version_minor": 0
      },
      "text/plain": [
       "Fitting model:   0%|          | 0/1 [00:00<?, ?it/s]"
      ]
     },
     "metadata": {},
     "output_type": "display_data"
    },
    {
     "name": "stdout",
     "output_type": "stream",
     "text": [
      "Best params: {'C': 10, 'kernel': 'linear', 'random_state': 21}\n",
      "Best training accuracy: 0.762\n",
      "Validation set accuracy score for best params: 0.678\n",
      "--------------------------------------------------\n",
      "Estimator: Decision Tree\n"
     ]
    },
    {
     "data": {
      "application/vnd.jupyter.widget-view+json": {
       "model_id": "be40872046da46c583ab3cdaa73f2167",
       "version_major": 2,
       "version_minor": 0
      },
      "text/plain": [
       "Fitting model:   0%|          | 0/1 [00:00<?, ?it/s]"
      ]
     },
     "metadata": {},
     "output_type": "display_data"
    },
    {
     "name": "stdout",
     "output_type": "stream",
     "text": [
      "Best params: {'max_depth': None, 'random_state': 21}\n",
      "Best training accuracy: 1.000\n",
      "Validation set accuracy score for best params: 0.870\n",
      "--------------------------------------------------\n",
      "Estimator: Random Forest\n"
     ]
    },
    {
     "data": {
      "application/vnd.jupyter.widget-view+json": {
       "model_id": "48403d4fc6b5429eb80bd1580284f779",
       "version_major": 2,
       "version_minor": 0
      },
      "text/plain": [
       "Fitting model:   0%|          | 0/1 [00:00<?, ?it/s]"
      ]
     },
     "metadata": {},
     "output_type": "display_data"
    },
    {
     "name": "stdout",
     "output_type": "stream",
     "text": [
      "Best params: {'max_depth': 20, 'n_estimators': 50, 'random_state': 21}\n",
      "Best training accuracy: 0.999\n",
      "Validation set accuracy score for best params: 0.900\n",
      "--------------------------------------------------\n",
      "\n",
      "Classifier with best validation set accuracy:: Random Forest\n",
      "Accuracy of the final model is 0.890533\n"
     ]
    }
   ],
   "source": [
    "model_selection = ModelSelection(grids, grid_dict)\n",
    "best_model_name = model_selection.choose(X_train, y_train, X_valid, y_valid)\n",
    "best_results_df = model_selection.best_results()\n",
    "\n",
    "# Create an instance of Finalize with the best model found\n",
    "model_key = next(key for key, value in grid_dict.items() if value == best_model_name)\n",
    "best_estimator = grids[model_key]  # Get the best estimator from the grids\n",
    "finalizer = Finalize(best_estimator.best_estimator_)\n",
    "\n",
    "# Get final score and save the model\n",
    "accuracy = finalizer.final_score(X_train, y_train, X_test, y_test)"
   ]
  },
  {
   "cell_type": "code",
   "execution_count": 35,
   "metadata": {},
   "outputs": [
    {
     "name": "stdout",
     "output_type": "stream",
     "text": [
      "Model successfully saved to data/Random Forest_0.89.joblib\n"
     ]
    }
   ],
   "source": [
    "model_filename = f'data/{best_model_name}_{accuracy:.2f}.joblib'\n",
    "finalizer.save_model(model_filename)"
   ]
  }
 ],
 "metadata": {
  "kernelspec": {
   "display_name": "Python Andrei",
   "language": "python",
   "name": "python3"
  },
  "language_info": {
   "codemirror_mode": {
    "name": "ipython",
    "version": 3
   },
   "file_extension": ".py",
   "mimetype": "text/x-python",
   "name": "python",
   "nbconvert_exporter": "python",
   "pygments_lexer": "ipython3",
   "version": "3.12.3"
  }
 },
 "nbformat": 4,
 "nbformat_minor": 4
}
