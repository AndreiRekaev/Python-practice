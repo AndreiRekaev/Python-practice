{
 "cells": [
  {
   "cell_type": "markdown",
   "metadata": {},
   "source": [
    "# Day 09. Exercise 03\n",
    "# Ensembles"
   ]
  },
  {
   "cell_type": "markdown",
   "metadata": {},
   "source": [
    "## 0. Imports"
   ]
  },
  {
   "cell_type": "code",
   "execution_count": 194,
   "metadata": {},
   "outputs": [],
   "source": [
    "import joblib\n",
    "import pandas as pd\n",
    "import numpy as np\n",
    "import matplotlib.pyplot as plt\n",
    "from tqdm.notebook import tqdm\n",
    "from itertools import product\n",
    "from sklearn.svm import SVC\n",
    "from sklearn.tree import DecisionTreeClassifier\n",
    "from sklearn.multiclass import OneVsRestClassifier\n",
    "from sklearn.linear_model import LogisticRegression\n",
    "from sklearn.model_selection import train_test_split, GridSearchCV, StratifiedKFold, cross_val_score\n",
    "from sklearn.ensemble import StackingClassifier, BaggingClassifier\n",
    "from sklearn.ensemble import VotingClassifier, RandomForestClassifier\n",
    "from sklearn.metrics import accuracy_score, precision_score, recall_score\n",
    "from sklearn.metrics import ConfusionMatrixDisplay"
   ]
  },
  {
   "cell_type": "markdown",
   "metadata": {},
   "source": [
    "## 1. Preprocessing"
   ]
  },
  {
   "cell_type": "markdown",
   "metadata": {},
   "source": [
    "1. Create the same dataframe as in the previous exercise.\n",
    "2. Using `train_test_split` with parameters `test_size=0.2`, `random_state=21` get `X_train`, `y_train`, `X_test`, `y_test` and then get `X_train`, `y_train`, `X_valid`, `y_valid` from the previous `X_train`, `y_train`. Use the additional parameter `stratify`."
   ]
  },
  {
   "cell_type": "code",
   "execution_count": 152,
   "metadata": {},
   "outputs": [],
   "source": [
    "df = pd.read_csv('data/dayofweek-not-scaled.csv')"
   ]
  },
  {
   "cell_type": "code",
   "execution_count": 154,
   "metadata": {},
   "outputs": [],
   "source": [
    "X = df.drop(['dayofweek'], axis=1)\n",
    "y = df['dayofweek']"
   ]
  },
  {
   "cell_type": "code",
   "execution_count": 156,
   "metadata": {},
   "outputs": [],
   "source": [
    "X_train, X_test, y_train, y_test = train_test_split(X, y, test_size=0.2, stratify=y,\n",
    "                                                    random_state=21)"
   ]
  },
  {
   "cell_type": "code",
   "execution_count": 158,
   "metadata": {},
   "outputs": [],
   "source": [
    "X_train, X_valid, y_train, y_valid = train_test_split(X_train, y_train, test_size=0.2, stratify=y_train,\n",
    "                                                    random_state=21)"
   ]
  },
  {
   "cell_type": "markdown",
   "metadata": {},
   "source": [
    "## 2. Individual classifiers"
   ]
  },
  {
   "cell_type": "markdown",
   "metadata": {},
   "source": [
    "1. Train SVM, decision tree and random forest again with the best parameters that you got from the 01 exercise with `random_state=21` for all of them.\n",
    "2. Evaluate `accuracy`, `precision`, and `recall` for them on the validation set.\n",
    "3. The result of each cell of the section should look like this:\n",
    "\n",
    "```\n",
    "accuracy is 0.87778\n",
    "precision is 0.88162\n",
    "recall is 0.87778\n",
    "```"
   ]
  },
  {
   "cell_type": "code",
   "execution_count": 162,
   "metadata": {},
   "outputs": [],
   "source": [
    "def scores_calc(X_train, y_train, X_valid, y_valid, model):\n",
    "    model.fit(X_train, y_train)\n",
    "    \n",
    "    y_pred = model.predict(X_valid)\n",
    "    \n",
    "    accuracy = accuracy_score(y_valid, y_pred)\n",
    "    precision = precision_score(y_valid, y_pred, average='weighted')\n",
    "    recall = recall_score(y_valid, y_pred, average='weighted')\n",
    "    \n",
    "    print(f\"Accuracy: {accuracy:.5f}\")\n",
    "    print(f\"Precision: {precision:.5f}\")\n",
    "    print(f\"Recall: {recall:.5f}\")\n",
    "    \n",
    "    return accuracy, precision, recall"
   ]
  },
  {
   "cell_type": "code",
   "execution_count": 164,
   "metadata": {},
   "outputs": [
    {
     "name": "stdout",
     "output_type": "stream",
     "text": [
      "Accuracy: 0.87778\n",
      "Precision: 0.88162\n",
      "Recall: 0.87778\n"
     ]
    }
   ],
   "source": [
    "svm = SVC(kernel='rbf', C=10, gamma='auto', probability=True, random_state=21)\n",
    "_ = scores_calc(X_train, y_train, X_valid, y_valid, svm)"
   ]
  },
  {
   "cell_type": "code",
   "execution_count": 165,
   "metadata": {},
   "outputs": [
    {
     "name": "stdout",
     "output_type": "stream",
     "text": [
      "Accuracy: 0.86296\n",
      "Precision: 0.86414\n",
      "Recall: 0.86296\n"
     ]
    }
   ],
   "source": [
    "dtc = DecisionTreeClassifier(max_depth=22, random_state=21)\n",
    "_ = scores_calc(X_train, y_train, X_valid, y_valid, dtc)"
   ]
  },
  {
   "cell_type": "code",
   "execution_count": 166,
   "metadata": {},
   "outputs": [
    {
     "name": "stdout",
     "output_type": "stream",
     "text": [
      "Accuracy: 0.88889\n",
      "Precision: 0.88940\n",
      "Recall: 0.88889\n"
     ]
    }
   ],
   "source": [
    "rfc = RandomForestClassifier(n_estimators=100, max_depth = 28, \n",
    "                                criterion = \"gini\", random_state=21)\n",
    "_ = scores_calc(X_train, y_train, X_valid, y_valid, rfc)"
   ]
  },
  {
   "cell_type": "markdown",
   "metadata": {},
   "source": [
    "## 3. Voting classifiers"
   ]
  },
  {
   "cell_type": "markdown",
   "metadata": {},
   "source": [
    "1. Using `VotingClassifier` and the three models that you have just trained, calculate the `accuracy`, `precision`, and `recall` on the validation set.\n",
    "2. Play with the other parameteres.\n",
    "3. Calculate the `accuracy`, `precision` and `recall` on the test set for the model with the best weights in terms of accuracy (if there are several of them with equal values, choose the one with the higher precision)."
   ]
  },
  {
   "cell_type": "code",
   "execution_count": 172,
   "metadata": {},
   "outputs": [],
   "source": [
    "estimators=[\n",
    "    ('svm', svm),\n",
    "    ('dt', dtc),\n",
    "    ('rfc', rfc)]\n",
    "weights = [\n",
    "    [1, 1, 1],  # Все модели имеют одинаковый вес\n",
    "    [2, 1, 1],  # Первая модель имеет больший вес\n",
    "    [1, 2, 1],  # Вторая модель имеет больший вес\n",
    "    [1, 1, 2],   # Третья модель имеет больший вес\n",
    "    [4, 1, 1],\n",
    "    [1, 4, 1],\n",
    "    [1, 1, 4],\n",
    "    [4, 1, 4]\n",
    "\n",
    "]"
   ]
  },
  {
   "cell_type": "code",
   "execution_count": 174,
   "metadata": {},
   "outputs": [
    {
     "name": "stdout",
     "output_type": "stream",
     "text": [
      "Weight: [1, 1, 1] :\n",
      "Accuracy: 0.88148\n",
      "Precision: 0.88314\n",
      "Recall: 0.88148\n",
      "Weight: [2, 1, 1] :\n",
      "Accuracy: 0.90000\n",
      "Precision: 0.90125\n",
      "Recall: 0.90000\n",
      "Weight: [1, 2, 1] :\n",
      "Accuracy: 0.86296\n",
      "Precision: 0.86414\n",
      "Recall: 0.86296\n",
      "Weight: [1, 1, 2] :\n",
      "Accuracy: 0.90000\n",
      "Precision: 0.90066\n",
      "Recall: 0.90000\n",
      "Weight: [4, 1, 1] :\n",
      "Accuracy: 0.90000\n",
      "Precision: 0.90352\n",
      "Recall: 0.90000\n",
      "Weight: [1, 4, 1] :\n",
      "Accuracy: 0.86296\n",
      "Precision: 0.86414\n",
      "Recall: 0.86296\n",
      "Weight: [1, 1, 4] :\n",
      "Accuracy: 0.89630\n",
      "Precision: 0.89674\n",
      "Recall: 0.89630\n",
      "Weight: [4, 1, 4] :\n",
      "Accuracy: 0.90741\n",
      "Precision: 0.90929\n",
      "Recall: 0.90741\n"
     ]
    }
   ],
   "source": [
    "for w in weights:\n",
    "    voting_clf = VotingClassifier(estimators=estimators, voting='soft', weights=w)\n",
    "    print(\"Weight:\", w, ':')\n",
    "    _ = scores_calc(X_train, y_train, X_valid, y_valid, voting_clf)"
   ]
  },
  {
   "cell_type": "code",
   "execution_count": 175,
   "metadata": {},
   "outputs": [
    {
     "name": "stdout",
     "output_type": "stream",
     "text": [
      "Weight: [1, 1, 1] :\n",
      "Accuracy: 0.88889\n",
      "Precision: 0.88879\n",
      "Recall: 0.88889\n",
      "Weight: [2, 1, 1] :\n",
      "Accuracy: 0.88148\n",
      "Precision: 0.88865\n",
      "Recall: 0.88148\n",
      "Weight: [1, 2, 1] :\n",
      "Accuracy: 0.87407\n",
      "Precision: 0.87439\n",
      "Recall: 0.87407\n",
      "Weight: [1, 1, 2] :\n",
      "Accuracy: 0.89630\n",
      "Precision: 0.89641\n",
      "Recall: 0.89630\n",
      "Weight: [4, 1, 1] :\n",
      "Accuracy: 0.87778\n",
      "Precision: 0.88162\n",
      "Recall: 0.87778\n",
      "Weight: [1, 4, 1] :\n",
      "Accuracy: 0.86296\n",
      "Precision: 0.86414\n",
      "Recall: 0.86296\n",
      "Weight: [1, 1, 4] :\n",
      "Accuracy: 0.88889\n",
      "Precision: 0.88940\n",
      "Recall: 0.88889\n",
      "Weight: [4, 1, 4] :\n",
      "Accuracy: 0.88889\n",
      "Precision: 0.88879\n",
      "Recall: 0.88889\n"
     ]
    }
   ],
   "source": [
    "for w in weights:\n",
    "    voting_clf = VotingClassifier(estimators=estimators, voting='hard', weights=w)\n",
    "    print(\"Weight:\", w, ':')\n",
    "    _ = scores_calc(X_train, y_train, X_valid, y_valid, voting_clf)"
   ]
  },
  {
   "cell_type": "code",
   "execution_count": 176,
   "metadata": {},
   "outputs": [
    {
     "name": "stdout",
     "output_type": "stream",
     "text": [
      "Accuracy: 0.90237\n",
      "Precision: 0.90544\n",
      "Recall: 0.90237\n"
     ]
    }
   ],
   "source": [
    "voting_clf = VotingClassifier(estimators=estimators, voting='soft', weights = [4, 1, 4])\n",
    "_ = scores_calc(X_train, y_train, X_test, y_test, voting_clf)"
   ]
  },
  {
   "cell_type": "markdown",
   "metadata": {},
   "source": [
    "## 4. Bagging classifiers"
   ]
  },
  {
   "cell_type": "markdown",
   "metadata": {},
   "source": [
    "1. Using `BaggingClassifier` and `SVM` with the best parameters create an ensemble, try different values of the `n_estimators`, use `random_state=21`.\n",
    "2. Play with the other parameters.\n",
    "3. Calculate the `accuracy`, `precision`, and `recall` for the model with the best parameters (in terms of accuracy) on the test set (if there are several of them with equal values, choose the one with the higher precision)"
   ]
  },
  {
   "cell_type": "code",
   "execution_count": 179,
   "metadata": {},
   "outputs": [],
   "source": [
    "def gridSearch(X_train, y_train, X_valid, y_valid, model, param_grid):\n",
    "    skf = StratifiedKFold(n_splits=3, shuffle=True, random_state=21)\n",
    "\n",
    "    grid_search = GridSearchCV(\n",
    "        estimator=model,\n",
    "        param_grid=param_grid,\n",
    "        scoring='accuracy',\n",
    "        cv=skf,\n",
    "        return_train_score=True,\n",
    "        n_jobs=-1,  # Использовать все ядра процессора\n",
    "        verbose = 1\n",
    "    )\n",
    "\n",
    "    grid_search.fit(X_train, y_train)\n",
    "\n",
    "    best_params = grid_search.best_params_\n",
    "    best_score = grid_search.best_score_\n",
    "\n",
    "    best_model = grid_search.best_estimator_\n",
    "    best_model.fit(X_train, y_train)\n",
    "\n",
    "    y_pred = best_model.predict(X_valid)\n",
    "    valid_score = accuracy_score(y_valid, y_pred)\n",
    "\n",
    "    results_df = pd.DataFrame(grid_search.cv_results_)\n",
    "    results_df_sorted = results_df.sort_values(by='rank_test_score')\n",
    "\n",
    "    return best_params, best_score, valid_score, results_df_sorted"
   ]
  },
  {
   "cell_type": "code",
   "execution_count": 180,
   "metadata": {},
   "outputs": [],
   "source": [
    "bagging_clf = BaggingClassifier(svm)"
   ]
  },
  {
   "cell_type": "code",
   "execution_count": 181,
   "metadata": {},
   "outputs": [
    {
     "name": "stdout",
     "output_type": "stream",
     "text": [
      "Fitting 3 folds for each of 5 candidates, totalling 15 fits\n"
     ]
    }
   ],
   "source": [
    "param_grid = {'n_estimators': range(10, 60, 10), 'random_state': [21]}\n",
    "best_params, best_score, valid_score, results_df_sorted = gridSearch(X_train, y_train, X_valid, y_valid, bagging_clf, param_grid)"
   ]
  },
  {
   "cell_type": "code",
   "execution_count": 183,
   "metadata": {},
   "outputs": [
    {
     "name": "stdout",
     "output_type": "stream",
     "text": [
      "{'n_estimators': 20, 'random_state': 21} 0.784798308057361 0.8851851851851852\n"
     ]
    }
   ],
   "source": [
    "print(best_params, best_score, valid_score)"
   ]
  },
  {
   "cell_type": "code",
   "execution_count": 184,
   "metadata": {},
   "outputs": [
    {
     "name": "stdout",
     "output_type": "stream",
     "text": [
      "Accuracy: 0.87278\n",
      "Precision: 0.87840\n",
      "Recall: 0.87278\n"
     ]
    }
   ],
   "source": [
    "best_bagging_clf = BaggingClassifier(svm, n_estimators = 30, random_state=21)\n",
    "_ = scores_calc(X_train, y_train, X_test, y_test, best_bagging_clf)"
   ]
  },
  {
   "cell_type": "markdown",
   "metadata": {},
   "source": [
    "## 5. Stacking classifiers"
   ]
  },
  {
   "cell_type": "markdown",
   "metadata": {},
   "source": [
    "1. To achieve reproducibility in this case you will have to create an object of cross-validation generator: `StratifiedKFold(n_splits=n, shuffle=True, random_state=21)`, where `n` you will try to optimize (the details are below).\n",
    "2. Using `StackingClassifier` and the three models that you have recently trained, calculate the `accuracy`, `precision` and `recall` on the validation set, try different values of `n_splits` `[2, 3, 4, 5, 6, 7]` in the cross-validation generator and parameter `passthrough` in the classifier itself,\n",
    "3. Calculate the `accuracy`, `precision`, and `recall` for the model with the best parameters (in terms of accuracy) on the test set (if there are several of them with equal values, choose the one with the higher precision). Use `final_estimator=LogisticRegression(solver='liblinear')`."
   ]
  },
  {
   "cell_type": "code",
   "execution_count": 212,
   "metadata": {},
   "outputs": [],
   "source": [
    "results = []\n",
    "\n",
    "n_splits_values = [2, 3, 4, 5, 6, 7]\n",
    "passthrough_values = [True, False]\n",
    "\n",
    "for n_splits in n_splits_values:\n",
    "    for passthrough in passthrough_values:\n",
    "        cv = StratifiedKFold(n_splits=n_splits, shuffle=True, random_state=21)\n",
    "        \n",
    "        stacking_clf = StackingClassifier(estimators=[\n",
    "                                                        ('svm', svm),\n",
    "                                                        ('dt', dtc),\n",
    "                                                        ('rfc', rfc)\n",
    "                                                    ], cv = cv,\n",
    "                                           passthrough=passthrough,\n",
    "            final_estimator=LogisticRegression(max_iter=1000, solver='liblinear'))\n",
    "        \n",
    "        accuracy = cross_val_score(stacking_clf, X_train, y_train, cv=cv, scoring='accuracy').mean()\n",
    "        \n",
    "        results.append((n_splits, passthrough, accuracy))"
   ]
  },
  {
   "cell_type": "code",
   "execution_count": 213,
   "metadata": {},
   "outputs": [
    {
     "data": {
      "text/plain": [
       "[(2, True, 0.8413729128014842),\n",
       " (2, False, 0.8283858998144713),\n",
       " (3, True, 0.8654776642938202),\n",
       " (3, False, 0.8682657587950068),\n",
       " (4, True, 0.8812370921106981),\n",
       " (4, False, 0.8821733443480656),\n",
       " (5, True, 0.8979715762273901),\n",
       " (5, False, 0.8998277347114556),\n",
       " (6, True, 0.8970411752534658),\n",
       " (6, False, 0.8942530519346162),\n",
       " (7, True, 0.8979591836734694),\n",
       " (7, False, 0.901669758812616)]"
      ]
     },
     "execution_count": 213,
     "metadata": {},
     "output_type": "execute_result"
    }
   ],
   "source": [
    "results"
   ]
  },
  {
   "cell_type": "code",
   "execution_count": 220,
   "metadata": {},
   "outputs": [
    {
     "name": "stdout",
     "output_type": "stream",
     "text": [
      "Accuracy: 0.89941\n",
      "Precision: 0.90327\n",
      "Recall: 0.89941\n"
     ]
    }
   ],
   "source": [
    "cv = StratifiedKFold(n_splits=7, shuffle=True, random_state=21)\n",
    "best_stacking_clf = StackingClassifier(estimators=[\n",
    "                                                        ('svm', svm),\n",
    "                                                        ('dt', dtc),\n",
    "                                                        ('rfc', rfc)\n",
    "                                                    ], \n",
    "                                           passthrough=False, cv = cv,\n",
    "                                           final_estimator = LogisticRegression(solver='liblinear', max_iter=1000))\n",
    "_ = scores_calc(X_train, y_train, X_test, y_test, best_stacking_clf)"
   ]
  },
  {
   "cell_type": "markdown",
   "metadata": {},
   "source": [
    "## 6. Predictions"
   ]
  },
  {
   "cell_type": "markdown",
   "metadata": {},
   "source": [
    "1. Choose the best model in terms of accuracy (if there are several of them with equal values, choose the one with the higher precision).\n",
    "2. Analyze: for which weekday your model makes the most errors (in % of the total number of samples of that class in your full dataset), for which labname and for which users.\n",
    "3. Save the model."
   ]
  },
  {
   "cell_type": "code",
   "execution_count": 222,
   "metadata": {},
   "outputs": [],
   "source": [
    "best_model = VotingClassifier(estimators=estimators, voting='soft', weights = [4, 1, 4]).fit(X_train, y_train)"
   ]
  },
  {
   "cell_type": "code",
   "execution_count": 224,
   "metadata": {},
   "outputs": [],
   "source": [
    "df_forecast = pd.DataFrame({\"predict\":best_model.predict(X_test)}, index= y_test.index)\n",
    "df_fit = pd.DataFrame({\"predict\":best_model.predict(X_train)}, index= y_train.index)\n",
    "df['forecast'] = pd.concat([df_fit, df_forecast])"
   ]
  },
  {
   "cell_type": "code",
   "execution_count": 226,
   "metadata": {},
   "outputs": [],
   "source": [
    "df['Error'] = (df[\"forecast\"]!=df.dayofweek)*1\n",
    "error_analysis = df.groupby(['dayofweek']).agg(\n",
    "    total_samples=('Error', 'size'),\n",
    "    total_errors=('Error', 'sum')\n",
    ").reset_index()\n",
    "error_analysis['perc_error'] = (error_analysis.total_errors/error_analysis.total_samples).round(2)"
   ]
  },
  {
   "cell_type": "code",
   "execution_count": 228,
   "metadata": {},
   "outputs": [
    {
     "data": {
      "text/html": [
       "<div>\n",
       "<style scoped>\n",
       "    .dataframe tbody tr th:only-of-type {\n",
       "        vertical-align: middle;\n",
       "    }\n",
       "\n",
       "    .dataframe tbody tr th {\n",
       "        vertical-align: top;\n",
       "    }\n",
       "\n",
       "    .dataframe thead th {\n",
       "        text-align: right;\n",
       "    }\n",
       "</style>\n",
       "<table border=\"1\" class=\"dataframe\">\n",
       "  <thead>\n",
       "    <tr style=\"text-align: right;\">\n",
       "      <th></th>\n",
       "      <th>dayofweek</th>\n",
       "      <th>total_samples</th>\n",
       "      <th>total_errors</th>\n",
       "      <th>perc_error</th>\n",
       "    </tr>\n",
       "  </thead>\n",
       "  <tbody>\n",
       "    <tr>\n",
       "      <th>0</th>\n",
       "      <td>0</td>\n",
       "      <td>136</td>\n",
       "      <td>32</td>\n",
       "      <td>0.24</td>\n",
       "    </tr>\n",
       "    <tr>\n",
       "      <th>4</th>\n",
       "      <td>4</td>\n",
       "      <td>104</td>\n",
       "      <td>20</td>\n",
       "      <td>0.19</td>\n",
       "    </tr>\n",
       "    <tr>\n",
       "      <th>5</th>\n",
       "      <td>5</td>\n",
       "      <td>271</td>\n",
       "      <td>52</td>\n",
       "      <td>0.19</td>\n",
       "    </tr>\n",
       "    <tr>\n",
       "      <th>1</th>\n",
       "      <td>1</td>\n",
       "      <td>274</td>\n",
       "      <td>50</td>\n",
       "      <td>0.18</td>\n",
       "    </tr>\n",
       "    <tr>\n",
       "      <th>6</th>\n",
       "      <td>6</td>\n",
       "      <td>356</td>\n",
       "      <td>64</td>\n",
       "      <td>0.18</td>\n",
       "    </tr>\n",
       "    <tr>\n",
       "      <th>2</th>\n",
       "      <td>2</td>\n",
       "      <td>149</td>\n",
       "      <td>26</td>\n",
       "      <td>0.17</td>\n",
       "    </tr>\n",
       "    <tr>\n",
       "      <th>3</th>\n",
       "      <td>3</td>\n",
       "      <td>396</td>\n",
       "      <td>68</td>\n",
       "      <td>0.17</td>\n",
       "    </tr>\n",
       "  </tbody>\n",
       "</table>\n",
       "</div>"
      ],
      "text/plain": [
       "   dayofweek  total_samples  total_errors  perc_error\n",
       "0          0            136            32        0.24\n",
       "4          4            104            20        0.19\n",
       "5          5            271            52        0.19\n",
       "1          1            274            50        0.18\n",
       "6          6            356            64        0.18\n",
       "2          2            149            26        0.17\n",
       "3          3            396            68        0.17"
      ]
     },
     "execution_count": 228,
     "metadata": {},
     "output_type": "execute_result"
    }
   ],
   "source": [
    "error_analysis.sort_values(by = 'perc_error', ascending=False)"
   ]
  },
  {
   "cell_type": "code",
   "execution_count": 230,
   "metadata": {},
   "outputs": [
    {
     "data": {
      "text/plain": [
       "uid_user_23    0.50\n",
       "uid_user_6     0.33\n",
       "uid_user_17    0.32\n",
       "uid_user_18    0.29\n",
       "uid_user_22    0.29\n",
       "uid_user_16    0.28\n",
       "uid_user_29    0.25\n",
       "uid_user_3     0.24\n",
       "uid_user_15    0.24\n",
       "uid_user_14    0.23\n",
       "uid_user_27    0.22\n",
       "uid_user_2     0.21\n",
       "uid_user_4     0.21\n",
       "uid_user_20    0.19\n",
       "uid_user_24    0.18\n",
       "dayofweek      0.18\n",
       "uid_user_26    0.17\n",
       "uid_user_25    0.16\n",
       "uid_user_31    0.15\n",
       "uid_user_1     0.15\n",
       "uid_user_10    0.14\n",
       "uid_user_19    0.13\n",
       "uid_user_28    0.13\n",
       "uid_user_30    0.13\n",
       "uid_user_13    0.12\n",
       "uid_user_12    0.12\n",
       "uid_user_21    0.09\n",
       "uid_user_0     0.00\n",
       "uid_user_11    0.00\n",
       "dtype: float64"
      ]
     },
     "execution_count": 230,
     "metadata": {},
     "output_type": "execute_result"
    }
   ],
   "source": [
    "((df[df.Error == 1].iloc[:,2:31].sum()/df.iloc[:,2:31].sum()).round(2)).sort_values(ascending=False)"
   ]
  },
  {
   "cell_type": "code",
   "execution_count": 232,
   "metadata": {},
   "outputs": [
    {
     "data": {
      "text/plain": [
       "labname_lab03       1.00\n",
       "labname_lab03s      1.00\n",
       "labname_lab05s      0.25\n",
       "labname_laba06      0.23\n",
       "labname_laba04s     0.22\n",
       "labname_laba04      0.21\n",
       "labname_laba06s     0.20\n",
       "labname_code_rvw    0.18\n",
       "labname_project1    0.18\n",
       "labname_laba05      0.16\n",
       "labname_lab02       0.00\n",
       "dtype: float64"
      ]
     },
     "execution_count": 232,
     "metadata": {},
     "output_type": "execute_result"
    }
   ],
   "source": [
    "((df[df.Error == 1].iloc[:,33:-2].sum()/df.iloc[:,33:-2].sum()).round(2)).sort_values(ascending=False)"
   ]
  },
  {
   "cell_type": "code",
   "execution_count": 234,
   "metadata": {},
   "outputs": [
    {
     "data": {
      "text/plain": [
       "['data/best_ensemle_ex03.joblib']"
      ]
     },
     "execution_count": 234,
     "metadata": {},
     "output_type": "execute_result"
    }
   ],
   "source": [
    "joblib.dump(best_model, 'data/best_ensemle_ex03.joblib')"
   ]
  }
 ],
 "metadata": {
  "kernelspec": {
   "display_name": "Python Andrei",
   "language": "python",
   "name": "python3"
  },
  "language_info": {
   "codemirror_mode": {
    "name": "ipython",
    "version": 3
   },
   "file_extension": ".py",
   "mimetype": "text/x-python",
   "name": "python",
   "nbconvert_exporter": "python",
   "pygments_lexer": "ipython3",
   "version": "3.12.3"
  }
 },
 "nbformat": 4,
 "nbformat_minor": 4
}
