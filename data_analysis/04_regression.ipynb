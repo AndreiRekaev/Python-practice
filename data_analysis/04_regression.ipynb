{
 "cells": [
  {
   "cell_type": "markdown",
   "metadata": {},
   "source": [
    "# Day 08. Exercise 04\n",
    "# Regression"
   ]
  },
  {
   "cell_type": "markdown",
   "metadata": {},
   "source": [
    "## 0. Imports"
   ]
  },
  {
   "cell_type": "code",
   "execution_count": 162,
   "metadata": {},
   "outputs": [],
   "source": [
    "import pandas as pd\n",
    "import numpy as np\n",
    "from sklearn.model_selection import train_test_split, cross_validate, KFold, cross_val_predict\n",
    "import matplotlib.pyplot as plt\n",
    "from sklearn.tree import DecisionTreeRegressor\n",
    "from sklearn.linear_model import LinearRegression\n",
    "from sklearn.ensemble import RandomForestRegressor"
   ]
  },
  {
   "cell_type": "markdown",
   "metadata": {},
   "source": [
    "## 1. Preprocessing"
   ]
  },
  {
   "cell_type": "markdown",
   "metadata": {},
   "source": [
    "1. Read the file [`checker_regression.csv`](https://drive.google.com/file/d/1L8auBzJEghWFewznhhFpcrqxW4GqcfRY/view?usp=sharing).\n",
    "2. Fill the missing values in it with `0`.\n",
    "3. Make a split of your dataset on train and test with parameters `test_size=0.2`."
   ]
  },
  {
   "cell_type": "code",
   "execution_count": 166,
   "metadata": {},
   "outputs": [
    {
     "name": "stdout",
     "output_type": "stream",
     "text": [
      "<class 'pandas.core.frame.DataFrame'>\n",
      "RangeIndex: 77 entries, 0 to 76\n",
      "Data columns (total 4 columns):\n",
      " #   Column       Non-Null Count  Dtype  \n",
      "---  ------       --------------  -----  \n",
      " 0   uid          77 non-null     object \n",
      " 1   num_commits  77 non-null     int64  \n",
      " 2   pageviews    59 non-null     float64\n",
      " 3   AVG(diff)    18 non-null     float64\n",
      "dtypes: float64(2), int64(1), object(1)\n",
      "memory usage: 2.5+ KB\n"
     ]
    }
   ],
   "source": [
    "with open('data/checker_regression.csv', 'r') as fin:\n",
    "    df = pd.read_csv(fin, sep=',')\n",
    "df.info()"
   ]
  },
  {
   "cell_type": "code",
   "execution_count": 168,
   "metadata": {},
   "outputs": [
    {
     "name": "stdout",
     "output_type": "stream",
     "text": [
      "<class 'pandas.core.frame.DataFrame'>\n",
      "RangeIndex: 77 entries, 0 to 76\n",
      "Data columns (total 4 columns):\n",
      " #   Column       Non-Null Count  Dtype  \n",
      "---  ------       --------------  -----  \n",
      " 0   uid          77 non-null     object \n",
      " 1   num_commits  77 non-null     int64  \n",
      " 2   pageviews    77 non-null     float64\n",
      " 3   AVG(diff)    77 non-null     float64\n",
      "dtypes: float64(2), int64(1), object(1)\n",
      "memory usage: 2.5+ KB\n"
     ]
    }
   ],
   "source": [
    "df.fillna(0, inplace=True)\n",
    "df.info()"
   ]
  },
  {
   "cell_type": "code",
   "execution_count": 170,
   "metadata": {},
   "outputs": [],
   "source": [
    "X = df.drop(['uid', 'AVG(diff)'], axis=1)\n",
    "y = df['AVG(diff)']"
   ]
  },
  {
   "cell_type": "code",
   "execution_count": 172,
   "metadata": {},
   "outputs": [],
   "source": [
    "X_train, X_test, y_train, y_test = train_test_split(X, y, test_size=0.2,\n",
    "                                                    random_state=21)"
   ]
  },
  {
   "cell_type": "markdown",
   "metadata": {},
   "source": [
    "## 2. Crossvalidation"
   ]
  },
  {
   "cell_type": "markdown",
   "metadata": {},
   "source": [
    "1. Write a function `crossval` that takes as arguments: `n_splits` for `KFold()`, `X`, `y`, model instantiated class with the parameters of the model (keep in mind: `random_state=21`) and returns for a given model class a result like this:\n",
    "\n",
    "```\n",
    "train -  2696.4496895424836   |   test -  1589.9979527104958\n",
    "train -  2660.957874001452   |   test -  2075.102636027137\n",
    "train -  2847.315529246795   |   test -  320.911928168403\n",
    "train -  2500.7691099659237   |   test -  4132.461382030178\n",
    "train -  2643.927917295123   |   test -  2237.8140952197878\n",
    "train -  2396.295678819444   |   test -  4509.650064742476\n",
    "train -  2003.402267924976   |   test -  8403.491474908551\n",
    "train -  2531.876094212613   |   test -  3135.944102735099\n",
    "train -  2683.1795186023123   |   test -  1796.01426292594\n",
    "train -  2537.1192483996338   |   test -  3439.29824116941\n",
    "Average RMSE on crossval is 3164.0686140637476\n",
    "```\n",
    "\n",
    "2. Run the function for `LinearRegression`, `DecisionTreeRegressor`, `RandomForestRegressor`. You may choose the parameters by yourself, but find the good enough for you."
   ]
  },
  {
   "cell_type": "code",
   "execution_count": 197,
   "metadata": {},
   "outputs": [],
   "source": [
    "def crossval(n_splits, X, y, model):\n",
    "    cv = KFold(n_splits=n_splits, shuffle=True, random_state=21)\n",
    "    \n",
    "    scores = cross_validate(model, X, y,\n",
    "                            scoring='neg_root_mean_squared_error', cv=cv,\n",
    "                            n_jobs=-1, return_train_score=True)\n",
    "    \n",
    "    train_scores = np.negative(scores['train_score'])\n",
    "    test_scores = np.negative(scores['test_score'])\n",
    "    \n",
    "    for train, test in zip(train_scores, test_scores):\n",
    "        print(f'train -  {train:-20.12f}   |   test -  {test:-20.12f}')\n",
    "    \n",
    "    avg_rmse = np.mean(test_scores)\n",
    "    print(f'\\nAverage RMSE on crossval is {avg_rmse}')"
   ]
  },
  {
   "cell_type": "code",
   "execution_count": 199,
   "metadata": {},
   "outputs": [
    {
     "name": "stdout",
     "output_type": "stream",
     "text": [
      "train -       47.402672811102   |   test -       62.714606096486\n",
      "train -       54.238959907704   |   test -       23.638363086464\n",
      "train -       48.753721414881   |   test -       56.941351619837\n",
      "train -       54.138809895781   |   test -       22.730485145810\n",
      "train -       52.417991758239   |   test -       38.758219599123\n",
      "train -       42.761933006518   |   test -       80.145007441374\n",
      "\n",
      "Average RMSE on crossval is 47.488005498182396\n"
     ]
    }
   ],
   "source": [
    "lr = LinearRegression(fit_intercept=False)\n",
    "crossval(6, X, y, lr)"
   ]
  },
  {
   "cell_type": "code",
   "execution_count": 200,
   "metadata": {},
   "outputs": [
    {
     "name": "stdout",
     "output_type": "stream",
     "text": [
      "train -       20.568474749022   |   test -       50.801440102390\n",
      "train -       22.384286836987   |   test -        0.000000000000\n",
      "train -       20.181270538684   |   test -       47.633047360574\n",
      "train -       19.279828252531   |   test -       32.911677382067\n",
      "train -       17.897491739500   |   test -       32.562077661058\n",
      "train -       16.200524957641   |   test -       57.734048848249\n",
      "\n",
      "Average RMSE on crossval is 36.94038189238966\n"
     ]
    }
   ],
   "source": [
    "dt = DecisionTreeRegressor(max_depth=3, random_state=21)\n",
    "crossval(6, X, y, dt)"
   ]
  },
  {
   "cell_type": "code",
   "execution_count": 201,
   "metadata": {},
   "outputs": [
    {
     "name": "stdout",
     "output_type": "stream",
     "text": [
      "train -       20.393118562067   |   test -       50.232500605202\n",
      "train -       24.463029296892   |   test -        0.000000000000\n",
      "train -       20.632025760055   |   test -       38.082212054836\n",
      "train -       21.461216468364   |   test -       32.911357171049\n",
      "train -       20.544671037578   |   test -       29.690845090727\n",
      "train -       17.859300514114   |   test -       46.084827159152\n",
      "\n",
      "Average RMSE on crossval is 32.833623680160876\n"
     ]
    }
   ],
   "source": [
    "rf = RandomForestRegressor(max_depth=3, n_estimators=30,\n",
    "                                   random_state=21)\n",
    "crossval(6, X, y, rf)"
   ]
  },
  {
   "cell_type": "markdown",
   "metadata": {},
   "source": [
    "## 3. Predictions and evaluation"
   ]
  },
  {
   "cell_type": "markdown",
   "metadata": {},
   "source": [
    "1. Make predictions for the test dataset using each of the three models with the finalized parameters.\n",
    "2. Draw a plot for each of the models where the `x-axis` is the actual average difference and the `y-axis` is the prediction made by a model.\n",
    "3. How would plot look like in the ideal case? Put the answer to the markdown cell in the end of the section."
   ]
  },
  {
   "cell_type": "code",
   "execution_count": 232,
   "metadata": {},
   "outputs": [
    {
     "data": {
      "image/png": "[encoded data removed]",
      "text/plain": [
       "<Figure size 2000x500 with 1 Axes>"
      ]
     },
     "metadata": {},
     "output_type": "display_data"
    },
    {
     "data": {
      "text/html": [
       "<div>\n",
       "<style scoped>\n",
       "    .dataframe tbody tr th:only-of-type {\n",
       "        vertical-align: middle;\n",
       "    }\n",
       "\n",
       "    .dataframe tbody tr th {\n",
       "        vertical-align: top;\n",
       "    }\n",
       "\n",
       "    .dataframe thead th {\n",
       "        text-align: right;\n",
       "    }\n",
       "</style>\n",
       "<table border=\"1\" class=\"dataframe\">\n",
       "  <thead>\n",
       "    <tr style=\"text-align: right;\">\n",
       "      <th></th>\n",
       "      <th>test_labels</th>\n",
       "      <th>predict</th>\n",
       "    </tr>\n",
       "  </thead>\n",
       "  <tbody>\n",
       "    <tr>\n",
       "      <th>3</th>\n",
       "      <td>0.0</td>\n",
       "      <td>-24.505654</td>\n",
       "    </tr>\n",
       "    <tr>\n",
       "      <th>19</th>\n",
       "      <td>-17.5</td>\n",
       "      <td>-11.644061</td>\n",
       "    </tr>\n",
       "    <tr>\n",
       "      <th>14</th>\n",
       "      <td>-48.5</td>\n",
       "      <td>-26.325702</td>\n",
       "    </tr>\n",
       "    <tr>\n",
       "      <th>45</th>\n",
       "      <td>-223.6</td>\n",
       "      <td>-11.368667</td>\n",
       "    </tr>\n",
       "    <tr>\n",
       "      <th>10</th>\n",
       "      <td>0.0</td>\n",
       "      <td>9.979679</td>\n",
       "    </tr>\n",
       "    <tr>\n",
       "      <th>54</th>\n",
       "      <td>0.0</td>\n",
       "      <td>8.559950</td>\n",
       "    </tr>\n",
       "    <tr>\n",
       "      <th>23</th>\n",
       "      <td>0.0</td>\n",
       "      <td>-15.429133</td>\n",
       "    </tr>\n",
       "    <tr>\n",
       "      <th>29</th>\n",
       "      <td>0.0</td>\n",
       "      <td>-1.913592</td>\n",
       "    </tr>\n",
       "    <tr>\n",
       "      <th>24</th>\n",
       "      <td>0.0</td>\n",
       "      <td>-15.429133</td>\n",
       "    </tr>\n",
       "    <tr>\n",
       "      <th>13</th>\n",
       "      <td>-89.0</td>\n",
       "      <td>-33.634204</td>\n",
       "    </tr>\n",
       "    <tr>\n",
       "      <th>22</th>\n",
       "      <td>0.0</td>\n",
       "      <td>-10.409641</td>\n",
       "    </tr>\n",
       "    <tr>\n",
       "      <th>57</th>\n",
       "      <td>0.0</td>\n",
       "      <td>6.766135</td>\n",
       "    </tr>\n",
       "    <tr>\n",
       "      <th>17</th>\n",
       "      <td>0.0</td>\n",
       "      <td>7.854372</td>\n",
       "    </tr>\n",
       "    <tr>\n",
       "      <th>31</th>\n",
       "      <td>0.0</td>\n",
       "      <td>-83.618141</td>\n",
       "    </tr>\n",
       "    <tr>\n",
       "      <th>39</th>\n",
       "      <td>0.0</td>\n",
       "      <td>-38.034291</td>\n",
       "    </tr>\n",
       "    <tr>\n",
       "      <th>40</th>\n",
       "      <td>0.0</td>\n",
       "      <td>-38.034291</td>\n",
       "    </tr>\n",
       "  </tbody>\n",
       "</table>\n",
       "</div>"
      ],
      "text/plain": [
       "    test_labels    predict\n",
       "3           0.0 -24.505654\n",
       "19        -17.5 -11.644061\n",
       "14        -48.5 -26.325702\n",
       "45       -223.6 -11.368667\n",
       "10          0.0   9.979679\n",
       "54          0.0   8.559950\n",
       "23          0.0 -15.429133\n",
       "29          0.0  -1.913592\n",
       "24          0.0 -15.429133\n",
       "13        -89.0 -33.634204\n",
       "22          0.0 -10.409641\n",
       "57          0.0   6.766135\n",
       "17          0.0   7.854372\n",
       "31          0.0 -83.618141\n",
       "39          0.0 -38.034291\n",
       "40          0.0 -38.034291"
      ]
     },
     "execution_count": 232,
     "metadata": {},
     "output_type": "execute_result"
    }
   ],
   "source": [
    "# Линейная регрессия\n",
    "lr_m = lr.fit(X_train, y_train)\n",
    "lr_preds = cross_val_predict(lr_m, X_test, y_test, cv=6)\n",
    "gr = pd.DataFrame()\n",
    "gr[\"test_labels\"] = y_test\n",
    "gr[\"predict\"] = lr_preds\n",
    "\n",
    "# Создаем график для каждой модели\n",
    "plt.figure(figsize=(20, 5))\n",
    "\n",
    "plt.subplot(131)\n",
    "plt.scatter(y_test, lr_preds)\n",
    "plt.title(\"Linear Regression\")\n",
    "plt.xlabel(\"Actual AVG(diff)\")\n",
    "plt.ylabel(\"Predicted AVG(diff)\")\n",
    "\n",
    "plt.tight_layout()\n",
    "plt.show()\n",
    "gr"
   ]
  },
  {
   "cell_type": "code",
   "execution_count": 244,
   "metadata": {},
   "outputs": [
    {
     "data": {
      "image/png": "[encoded data removed]",
      "text/plain": [
       "<Figure size 2000x500 with 1 Axes>"
      ]
     },
     "metadata": {},
     "output_type": "display_data"
    },
    {
     "data": {
      "text/html": [
       "<div>\n",
       "<style scoped>\n",
       "    .dataframe tbody tr th:only-of-type {\n",
       "        vertical-align: middle;\n",
       "    }\n",
       "\n",
       "    .dataframe tbody tr th {\n",
       "        vertical-align: top;\n",
       "    }\n",
       "\n",
       "    .dataframe thead th {\n",
       "        text-align: right;\n",
       "    }\n",
       "</style>\n",
       "<table border=\"1\" class=\"dataframe\">\n",
       "  <thead>\n",
       "    <tr style=\"text-align: right;\">\n",
       "      <th></th>\n",
       "      <th>test_labels</th>\n",
       "      <th>predict</th>\n",
       "    </tr>\n",
       "  </thead>\n",
       "  <tbody>\n",
       "    <tr>\n",
       "      <th>3</th>\n",
       "      <td>0.0</td>\n",
       "      <td>0.0</td>\n",
       "    </tr>\n",
       "    <tr>\n",
       "      <th>19</th>\n",
       "      <td>-17.5</td>\n",
       "      <td>-223.6</td>\n",
       "    </tr>\n",
       "    <tr>\n",
       "      <th>14</th>\n",
       "      <td>-48.5</td>\n",
       "      <td>-223.6</td>\n",
       "    </tr>\n",
       "    <tr>\n",
       "      <th>45</th>\n",
       "      <td>-223.6</td>\n",
       "      <td>-17.5</td>\n",
       "    </tr>\n",
       "    <tr>\n",
       "      <th>10</th>\n",
       "      <td>0.0</td>\n",
       "      <td>0.0</td>\n",
       "    </tr>\n",
       "    <tr>\n",
       "      <th>54</th>\n",
       "      <td>0.0</td>\n",
       "      <td>0.0</td>\n",
       "    </tr>\n",
       "    <tr>\n",
       "      <th>23</th>\n",
       "      <td>0.0</td>\n",
       "      <td>0.0</td>\n",
       "    </tr>\n",
       "    <tr>\n",
       "      <th>29</th>\n",
       "      <td>0.0</td>\n",
       "      <td>-17.5</td>\n",
       "    </tr>\n",
       "    <tr>\n",
       "      <th>24</th>\n",
       "      <td>0.0</td>\n",
       "      <td>0.0</td>\n",
       "    </tr>\n",
       "    <tr>\n",
       "      <th>13</th>\n",
       "      <td>-89.0</td>\n",
       "      <td>-48.5</td>\n",
       "    </tr>\n",
       "    <tr>\n",
       "      <th>22</th>\n",
       "      <td>0.0</td>\n",
       "      <td>0.0</td>\n",
       "    </tr>\n",
       "    <tr>\n",
       "      <th>57</th>\n",
       "      <td>0.0</td>\n",
       "      <td>0.0</td>\n",
       "    </tr>\n",
       "    <tr>\n",
       "      <th>17</th>\n",
       "      <td>0.0</td>\n",
       "      <td>0.0</td>\n",
       "    </tr>\n",
       "    <tr>\n",
       "      <th>31</th>\n",
       "      <td>0.0</td>\n",
       "      <td>0.0</td>\n",
       "    </tr>\n",
       "    <tr>\n",
       "      <th>39</th>\n",
       "      <td>0.0</td>\n",
       "      <td>0.0</td>\n",
       "    </tr>\n",
       "    <tr>\n",
       "      <th>40</th>\n",
       "      <td>0.0</td>\n",
       "      <td>0.0</td>\n",
       "    </tr>\n",
       "  </tbody>\n",
       "</table>\n",
       "</div>"
      ],
      "text/plain": [
       "    test_labels  predict\n",
       "3           0.0      0.0\n",
       "19        -17.5   -223.6\n",
       "14        -48.5   -223.6\n",
       "45       -223.6    -17.5\n",
       "10          0.0      0.0\n",
       "54          0.0      0.0\n",
       "23          0.0      0.0\n",
       "29          0.0    -17.5\n",
       "24          0.0      0.0\n",
       "13        -89.0    -48.5\n",
       "22          0.0      0.0\n",
       "57          0.0      0.0\n",
       "17          0.0      0.0\n",
       "31          0.0      0.0\n",
       "39          0.0      0.0\n",
       "40          0.0      0.0"
      ]
     },
     "execution_count": 244,
     "metadata": {},
     "output_type": "execute_result"
    }
   ],
   "source": [
    "# Дерево решений\n",
    "dt_model = dt.fit(X_train, y_train)\n",
    "dt_preds = cross_val_predict(dt_model, X_test, y_test, cv=6)\n",
    "gr = pd.DataFrame()\n",
    "gr[\"test_labels\"] = y_test\n",
    "gr[\"predict\"] = dt_preds\n",
    "\n",
    "plt.figure(figsize=(20, 5))\n",
    "plt.subplot(133)\n",
    "plt.scatter(y_test, dt_preds)\n",
    "plt.title(\"Decision Tree Regressor\")\n",
    "plt.xlabel(\"Actual AVG(diff)\")\n",
    "plt.ylabel(\"Predicted AVG(diff)\")\n",
    "\n",
    "plt.tight_layout()\n",
    "plt.show()\n",
    "gr"
   ]
  },
  {
   "cell_type": "code",
   "execution_count": 250,
   "metadata": {},
   "outputs": [
    {
     "data": {
      "image/png": "[encoded data removed]",
      "text/plain": [
       "<Figure size 2000x500 with 1 Axes>"
      ]
     },
     "metadata": {},
     "output_type": "display_data"
    },
    {
     "data": {
      "text/html": [
       "<div>\n",
       "<style scoped>\n",
       "    .dataframe tbody tr th:only-of-type {\n",
       "        vertical-align: middle;\n",
       "    }\n",
       "\n",
       "    .dataframe tbody tr th {\n",
       "        vertical-align: top;\n",
       "    }\n",
       "\n",
       "    .dataframe thead th {\n",
       "        text-align: right;\n",
       "    }\n",
       "</style>\n",
       "<table border=\"1\" class=\"dataframe\">\n",
       "  <thead>\n",
       "    <tr style=\"text-align: right;\">\n",
       "      <th></th>\n",
       "      <th>test_labels</th>\n",
       "      <th>predict</th>\n",
       "    </tr>\n",
       "  </thead>\n",
       "  <tbody>\n",
       "    <tr>\n",
       "      <th>3</th>\n",
       "      <td>0.0</td>\n",
       "      <td>0.000000</td>\n",
       "    </tr>\n",
       "    <tr>\n",
       "      <th>19</th>\n",
       "      <td>-17.5</td>\n",
       "      <td>-148.920000</td>\n",
       "    </tr>\n",
       "    <tr>\n",
       "      <th>14</th>\n",
       "      <td>-48.5</td>\n",
       "      <td>-148.920000</td>\n",
       "    </tr>\n",
       "    <tr>\n",
       "      <th>45</th>\n",
       "      <td>-223.6</td>\n",
       "      <td>-26.083333</td>\n",
       "    </tr>\n",
       "    <tr>\n",
       "      <th>10</th>\n",
       "      <td>0.0</td>\n",
       "      <td>0.000000</td>\n",
       "    </tr>\n",
       "    <tr>\n",
       "      <th>54</th>\n",
       "      <td>0.0</td>\n",
       "      <td>0.000000</td>\n",
       "    </tr>\n",
       "    <tr>\n",
       "      <th>23</th>\n",
       "      <td>0.0</td>\n",
       "      <td>-1.616667</td>\n",
       "    </tr>\n",
       "    <tr>\n",
       "      <th>29</th>\n",
       "      <td>0.0</td>\n",
       "      <td>-53.916667</td>\n",
       "    </tr>\n",
       "    <tr>\n",
       "      <th>24</th>\n",
       "      <td>0.0</td>\n",
       "      <td>-1.616667</td>\n",
       "    </tr>\n",
       "    <tr>\n",
       "      <th>13</th>\n",
       "      <td>-89.0</td>\n",
       "      <td>-75.616667</td>\n",
       "    </tr>\n",
       "    <tr>\n",
       "      <th>22</th>\n",
       "      <td>0.0</td>\n",
       "      <td>0.000000</td>\n",
       "    </tr>\n",
       "    <tr>\n",
       "      <th>57</th>\n",
       "      <td>0.0</td>\n",
       "      <td>0.000000</td>\n",
       "    </tr>\n",
       "    <tr>\n",
       "      <th>17</th>\n",
       "      <td>0.0</td>\n",
       "      <td>0.000000</td>\n",
       "    </tr>\n",
       "    <tr>\n",
       "      <th>31</th>\n",
       "      <td>0.0</td>\n",
       "      <td>-8.562500</td>\n",
       "    </tr>\n",
       "    <tr>\n",
       "      <th>39</th>\n",
       "      <td>0.0</td>\n",
       "      <td>-9.504167</td>\n",
       "    </tr>\n",
       "    <tr>\n",
       "      <th>40</th>\n",
       "      <td>0.0</td>\n",
       "      <td>-9.504167</td>\n",
       "    </tr>\n",
       "  </tbody>\n",
       "</table>\n",
       "</div>"
      ],
      "text/plain": [
       "    test_labels     predict\n",
       "3           0.0    0.000000\n",
       "19        -17.5 -148.920000\n",
       "14        -48.5 -148.920000\n",
       "45       -223.6  -26.083333\n",
       "10          0.0    0.000000\n",
       "54          0.0    0.000000\n",
       "23          0.0   -1.616667\n",
       "29          0.0  -53.916667\n",
       "24          0.0   -1.616667\n",
       "13        -89.0  -75.616667\n",
       "22          0.0    0.000000\n",
       "57          0.0    0.000000\n",
       "17          0.0    0.000000\n",
       "31          0.0   -8.562500\n",
       "39          0.0   -9.504167\n",
       "40          0.0   -9.504167"
      ]
     },
     "execution_count": 250,
     "metadata": {},
     "output_type": "execute_result"
    }
   ],
   "source": [
    "# Случайный лес\n",
    "rf_model = rf.fit(X_train, y_train)\n",
    "rf_preds = cross_val_predict(rf_model, X_test, y_test, cv=6)\n",
    "gr = pd.DataFrame()\n",
    "gr[\"test_labels\"] = y_test\n",
    "gr[\"predict\"] = rf_preds\n",
    "\n",
    "plt.figure(figsize=(20, 5))\n",
    "plt.subplot(132)\n",
    "plt.scatter(y_test, rf_preds)\n",
    "plt.title(\"Random Forest Regressor\")\n",
    "plt.xlabel(\"Actual AVG(diff)\")\n",
    "plt.ylabel(\"Predicted AVG(diff)\")\n",
    "\n",
    "plt.tight_layout()\n",
    "plt.show()\n",
    "gr"
   ]
  },
  {
   "cell_type": "markdown",
   "metadata": {},
   "source": [
    "- В идеале график для каждой модели должен показывать прямую линию, проходящую через начало координат и под углом 45 градусов - диагональ. Это свидетельствует о том, что предсказанные значения полностью соответствуют фактическим данным, что делает модель максимально точной."
   ]
  }
 ],
 "metadata": {
  "kernelspec": {
   "display_name": "Python Andrei",
   "language": "python",
   "name": "python3"
  },
  "language_info": {
   "codemirror_mode": {
    "name": "ipython",
    "version": 3
   },
   "file_extension": ".py",
   "mimetype": "text/x-python",
   "name": "python",
   "nbconvert_exporter": "python",
   "pygments_lexer": "ipython3",
   "version": "3.12.7"
  }
 },
 "nbformat": 4,
 "nbformat_minor": 4
}
